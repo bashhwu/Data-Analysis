{
 "cells": [
  {
   "cell_type": "markdown",
   "id": "ba913eff",
   "metadata": {},
   "source": [
    "## Project 1: Chicago Train Ridership (using Python)\n",
    "\n",
    "by Bashar Mohammad, 25 December 2021.\n",
    "\n",
    "We will use Chicago train ridership datasetcollected over the period between 2001 and 2016. It covers 147 stations across Chicago.Two of them are located at o'Hare and Midway airports. \n",
    "\n",
    "On the rail system, a customer is counted as an \"entry\" each time he or she passes through a turnstile to enter a station.  Customers are not counted as \"entries\" when they make a \"cross-platform\" transfer from one rail line to another, since they don't pass through a turnstile. Where the number given for rail is in \"boardings,\" what's presented is a statistically valid estimate of the actual number of boardings onto the rail system. \n",
    "\n",
    "\n",
    "The following analysis will address the following questions: \n",
    "\n",
    "\n",
    "- What are the ten stations with the lowest/highest total ridership?\n",
    "\n",
    "- Which month does have the lowest/highest ridership across stations?\n",
    "\n",
    "- Which station is busier: O'Hare aIrport or Midway airport? and how to fix the problem that they have different data size?\n",
    "\n",
    "- Compute the correlation between the riderships for the two airport stations?"
   ]
  },
  {
   "cell_type": "code",
   "execution_count": 43,
   "id": "25764e09",
   "metadata": {},
   "outputs": [
    {
     "data": {
      "text/plain": [
       "147"
      ]
     },
     "execution_count": 43,
     "metadata": {},
     "output_type": "execute_result"
    }
   ],
   "source": [
    "len(df.stationname.unique())"
   ]
  },
  {
   "cell_type": "code",
   "execution_count": 1,
   "id": "035f5722",
   "metadata": {},
   "outputs": [
    {
     "name": "stdout",
     "output_type": "stream",
     "text": [
      "\u001b[H\u001b[2J"
     ]
    }
   ],
   "source": [
    "clear all"
   ]
  },
  {
   "cell_type": "code",
   "execution_count": 2,
   "id": "15eba309",
   "metadata": {},
   "outputs": [],
   "source": [
    "# import packages\n",
    "import pandas as pd\n",
    "import seaborn as sns\n",
    "from datetime import datetime\n",
    "import matplotlib.pyplot as plt\n",
    "from matplotlib.widgets import Cursor, Button\n",
    "import mplcursors\n",
    "import numpy as np"
   ]
  },
  {
   "cell_type": "code",
   "execution_count": 3,
   "id": "7e73ef49",
   "metadata": {},
   "outputs": [
    {
     "data": {
      "text/html": [
       "<div>\n",
       "<style scoped>\n",
       "    .dataframe tbody tr th:only-of-type {\n",
       "        vertical-align: middle;\n",
       "    }\n",
       "\n",
       "    .dataframe tbody tr th {\n",
       "        vertical-align: top;\n",
       "    }\n",
       "\n",
       "    .dataframe thead th {\n",
       "        text-align: right;\n",
       "    }\n",
       "</style>\n",
       "<table border=\"1\" class=\"dataframe\">\n",
       "  <thead>\n",
       "    <tr style=\"text-align: right;\">\n",
       "      <th></th>\n",
       "      <th>station_id</th>\n",
       "      <th>stationname</th>\n",
       "      <th>date</th>\n",
       "      <th>daytype</th>\n",
       "      <th>rides</th>\n",
       "    </tr>\n",
       "  </thead>\n",
       "  <tbody>\n",
       "    <tr>\n",
       "      <th>0</th>\n",
       "      <td>40010</td>\n",
       "      <td>Austin-Forest Park</td>\n",
       "      <td>01/01/2001</td>\n",
       "      <td>U</td>\n",
       "      <td>290</td>\n",
       "    </tr>\n",
       "    <tr>\n",
       "      <th>1</th>\n",
       "      <td>40020</td>\n",
       "      <td>Harlem-Lake</td>\n",
       "      <td>01/01/2001</td>\n",
       "      <td>U</td>\n",
       "      <td>633</td>\n",
       "    </tr>\n",
       "    <tr>\n",
       "      <th>2</th>\n",
       "      <td>40030</td>\n",
       "      <td>Pulaski-Lake</td>\n",
       "      <td>01/01/2001</td>\n",
       "      <td>U</td>\n",
       "      <td>483</td>\n",
       "    </tr>\n",
       "    <tr>\n",
       "      <th>3</th>\n",
       "      <td>40040</td>\n",
       "      <td>Quincy/Wells</td>\n",
       "      <td>01/01/2001</td>\n",
       "      <td>U</td>\n",
       "      <td>374</td>\n",
       "    </tr>\n",
       "    <tr>\n",
       "      <th>4</th>\n",
       "      <td>40050</td>\n",
       "      <td>Davis</td>\n",
       "      <td>01/01/2001</td>\n",
       "      <td>U</td>\n",
       "      <td>804</td>\n",
       "    </tr>\n",
       "  </tbody>\n",
       "</table>\n",
       "</div>"
      ],
      "text/plain": [
       "   station_id         stationname        date daytype  rides\n",
       "0       40010  Austin-Forest Park  01/01/2001       U    290\n",
       "1       40020         Harlem-Lake  01/01/2001       U    633\n",
       "2       40030        Pulaski-Lake  01/01/2001       U    483\n",
       "3       40040        Quincy/Wells  01/01/2001       U    374\n",
       "4       40050               Davis  01/01/2001       U    804"
      ]
     },
     "execution_count": 3,
     "metadata": {},
     "output_type": "execute_result"
    }
   ],
   "source": [
    "df=pd.read_csv('Entries.csv')\n",
    "df.head()"
   ]
  },
  {
   "cell_type": "code",
   "execution_count": 4,
   "id": "83350427",
   "metadata": {},
   "outputs": [
    {
     "data": {
      "text/plain": [
       "79426161"
      ]
     },
     "execution_count": 4,
     "metadata": {},
     "output_type": "execute_result"
    }
   ],
   "source": [
    "df[df.stationname=='Clark/Lake']['rides'].sum()"
   ]
  },
  {
   "cell_type": "code",
   "execution_count": 5,
   "id": "d0a43ad4",
   "metadata": {},
   "outputs": [
    {
     "data": {
      "text/plain": [
       "station_id      int64\n",
       "stationname    object\n",
       "date           object\n",
       "daytype        object\n",
       "rides           int64\n",
       "dtype: object"
      ]
     },
     "execution_count": 5,
     "metadata": {},
     "output_type": "execute_result"
    }
   ],
   "source": [
    "df.dtypes"
   ]
  },
  {
   "cell_type": "markdown",
   "id": "9b231ad8",
   "metadata": {},
   "source": [
    "We definitely need to change the values in the 'date' column into values of the datetime64 date type."
   ]
  },
  {
   "cell_type": "code",
   "execution_count": 6,
   "id": "ea758fb9",
   "metadata": {},
   "outputs": [],
   "source": [
    "df['date']=pd.to_datetime(df['date'])\n",
    "df['year']=df['date'].dt.year\n",
    "df['month']=df['date'].dt.month"
   ]
  },
  {
   "cell_type": "markdown",
   "id": "bfdf716e",
   "metadata": {},
   "source": [
    "We can notice that the station \"O'Hare Airport\" has apostrophe which makes it difficult to \n",
    "access that column"
   ]
  },
  {
   "cell_type": "code",
   "execution_count": 7,
   "id": "96932fc0",
   "metadata": {},
   "outputs": [],
   "source": [
    "df.stationname = df.stationname.str.replace(\"'\",'', regex=True)"
   ]
  },
  {
   "cell_type": "markdown",
   "id": "2fa3598d",
   "metadata": {},
   "source": [
    "### What are the ten stations with the highest total ridership?"
   ]
  },
  {
   "cell_type": "code",
   "execution_count": 8,
   "id": "579a9d4b",
   "metadata": {},
   "outputs": [
    {
     "data": {
      "text/plain": [
       "stationname\n",
       "Clark/Lake            79426161\n",
       "Lake/State            77337160\n",
       "Chicago/State         75249013\n",
       "95th/Dan Ryan         62853565\n",
       "Belmont-North Main    60689408\n",
       "Fullerton             59679916\n",
       "Grand/State           54734384\n",
       "Jackson/State         52284407\n",
       "OHare Airport         52146279\n",
       "Roosevelt             48527193\n",
       "Name: rides, dtype: int64"
      ]
     },
     "execution_count": 8,
     "metadata": {},
     "output_type": "execute_result"
    }
   ],
   "source": [
    "df.groupby('stationname')['rides'].agg('sum').sort_values( ascending=False).head(10)"
   ]
  },
  {
   "cell_type": "markdown",
   "id": "6c4d1839",
   "metadata": {},
   "source": [
    "Clark/Lake and Lake/State are the first and second busiest stations. They are serviced by six lines. "
   ]
  },
  {
   "cell_type": "markdown",
   "id": "a164c7ce",
   "metadata": {},
   "source": [
    "### What are the ten stations with the lowest total ridership?"
   ]
  },
  {
   "cell_type": "code",
   "execution_count": 9,
   "id": "2d0d5e20",
   "metadata": {},
   "outputs": [
    {
     "data": {
      "text/plain": [
       "stationname\n",
       "Homan                          27\n",
       "Cermak-McCormick Place     814785\n",
       "Oakton-Skokie             1164243\n",
       "Kostner                   1903223\n",
       "Dempster-Skokie           2843231\n",
       "Morgan-Lake               3207413\n",
       "King Drive                3328955\n",
       "Noyes                     3503156\n",
       "Kedzie-Cermak             3738102\n",
       "South Boulevard           3838233\n",
       "Name: rides, dtype: int64"
      ]
     },
     "execution_count": 9,
     "metadata": {},
     "output_type": "execute_result"
    }
   ],
   "source": [
    "df.groupby('stationname')['rides'].agg('sum').sort_values( ascending=True).head(10)"
   ]
  },
  {
   "cell_type": "markdown",
   "id": "cb93e6eb",
   "metadata": {},
   "source": [
    "From the results above, there may be a lack of data for Homan station as the figure 27 does not sound resonable. \n",
    "\n",
    "Regarding Cermak-McCormick Place, it is serviced by a single line which is the green, while \n",
    "Oakton-Skokie  is located at the very end of the yellow line. "
   ]
  },
  {
   "cell_type": "code",
   "execution_count": null,
   "id": "25e26083",
   "metadata": {},
   "outputs": [],
   "source": []
  },
  {
   "cell_type": "markdown",
   "id": "87d07ade",
   "metadata": {},
   "source": [
    "### Which month does have the highest ridership across stations?"
   ]
  },
  {
   "cell_type": "markdown",
   "id": "7b83c9be",
   "metadata": {},
   "source": [
    "The dataframe is split by station name and month, and then each group aggregated for the total rides. The result is sorted in descending order so that the month with the highest ridership would appear at the top. The resulting series is converted to a dataframe."
   ]
  },
  {
   "cell_type": "code",
   "execution_count": 10,
   "id": "093da1c2",
   "metadata": {},
   "outputs": [
    {
     "data": {
      "text/html": [
       "<div>\n",
       "<style scoped>\n",
       "    .dataframe tbody tr th:only-of-type {\n",
       "        vertical-align: middle;\n",
       "    }\n",
       "\n",
       "    .dataframe tbody tr th {\n",
       "        vertical-align: top;\n",
       "    }\n",
       "\n",
       "    .dataframe thead th {\n",
       "        text-align: right;\n",
       "    }\n",
       "</style>\n",
       "<table border=\"1\" class=\"dataframe\">\n",
       "  <thead>\n",
       "    <tr style=\"text-align: right;\">\n",
       "      <th></th>\n",
       "      <th>stationname</th>\n",
       "      <th>month</th>\n",
       "      <th>rides</th>\n",
       "    </tr>\n",
       "  </thead>\n",
       "  <tbody>\n",
       "    <tr>\n",
       "      <th>0</th>\n",
       "      <td>Clark/Lake</td>\n",
       "      <td>10</td>\n",
       "      <td>7348022</td>\n",
       "    </tr>\n",
       "    <tr>\n",
       "      <th>1</th>\n",
       "      <td>Clark/Lake</td>\n",
       "      <td>8</td>\n",
       "      <td>7190706</td>\n",
       "    </tr>\n",
       "    <tr>\n",
       "      <th>2</th>\n",
       "      <td>Clark/Lake</td>\n",
       "      <td>7</td>\n",
       "      <td>7101194</td>\n",
       "    </tr>\n",
       "    <tr>\n",
       "      <th>3</th>\n",
       "      <td>Clark/Lake</td>\n",
       "      <td>6</td>\n",
       "      <td>7055446</td>\n",
       "    </tr>\n",
       "    <tr>\n",
       "      <th>4</th>\n",
       "      <td>Lake/State</td>\n",
       "      <td>10</td>\n",
       "      <td>7036553</td>\n",
       "    </tr>\n",
       "  </tbody>\n",
       "</table>\n",
       "</div>"
      ],
      "text/plain": [
       "  stationname  month    rides\n",
       "0  Clark/Lake     10  7348022\n",
       "1  Clark/Lake      8  7190706\n",
       "2  Clark/Lake      7  7101194\n",
       "3  Clark/Lake      6  7055446\n",
       "4  Lake/State     10  7036553"
      ]
     },
     "execution_count": 10,
     "metadata": {},
     "output_type": "execute_result"
    }
   ],
   "source": [
    "ff=df.groupby(['stationname','month'])['rides'].agg('sum').sort_values(ascending=False)\n",
    "ff=ff.reset_index()\n",
    "ff.head()"
   ]
  },
  {
   "cell_type": "code",
   "execution_count": 11,
   "id": "39395a17",
   "metadata": {},
   "outputs": [],
   "source": [
    "dic={}\n",
    "station_names=df.stationname.unique().tolist() # A list of unique station names through which we loop\n",
    "for name in station_names:\n",
    "    i=ff[ff['stationname']==name]['rides'].argmax()\n",
    "    dic[name]=ff[ff['stationname']==name]['month'].iloc[i]\n",
    "    \n",
    "result= pd.DataFrame({'stationname':list(dic.keys()), 'month':list(dic.values())})"
   ]
  },
  {
   "cell_type": "code",
   "execution_count": 12,
   "id": "df0d9b7e",
   "metadata": {},
   "outputs": [
    {
     "data": {
      "text/html": [
       "<div>\n",
       "<style scoped>\n",
       "    .dataframe tbody tr th:only-of-type {\n",
       "        vertical-align: middle;\n",
       "    }\n",
       "\n",
       "    .dataframe tbody tr th {\n",
       "        vertical-align: top;\n",
       "    }\n",
       "\n",
       "    .dataframe thead th {\n",
       "        text-align: right;\n",
       "    }\n",
       "</style>\n",
       "<table border=\"1\" class=\"dataframe\">\n",
       "  <thead>\n",
       "    <tr style=\"text-align: right;\">\n",
       "      <th></th>\n",
       "      <th>stationname</th>\n",
       "      <th>month</th>\n",
       "    </tr>\n",
       "  </thead>\n",
       "  <tbody>\n",
       "    <tr>\n",
       "      <th>0</th>\n",
       "      <td>Austin-Forest Park</td>\n",
       "      <td>10</td>\n",
       "    </tr>\n",
       "    <tr>\n",
       "      <th>1</th>\n",
       "      <td>Harlem-Lake</td>\n",
       "      <td>8</td>\n",
       "    </tr>\n",
       "    <tr>\n",
       "      <th>2</th>\n",
       "      <td>Pulaski-Lake</td>\n",
       "      <td>10</td>\n",
       "    </tr>\n",
       "    <tr>\n",
       "      <th>3</th>\n",
       "      <td>Quincy/Wells</td>\n",
       "      <td>10</td>\n",
       "    </tr>\n",
       "    <tr>\n",
       "      <th>4</th>\n",
       "      <td>Davis</td>\n",
       "      <td>10</td>\n",
       "    </tr>\n",
       "  </tbody>\n",
       "</table>\n",
       "</div>"
      ],
      "text/plain": [
       "          stationname  month\n",
       "0  Austin-Forest Park     10\n",
       "1         Harlem-Lake      8\n",
       "2        Pulaski-Lake     10\n",
       "3        Quincy/Wells     10\n",
       "4               Davis     10"
      ]
     },
     "execution_count": 12,
     "metadata": {},
     "output_type": "execute_result"
    }
   ],
   "source": [
    "result.head()"
   ]
  },
  {
   "cell_type": "code",
   "execution_count": 13,
   "id": "45951ec4",
   "metadata": {},
   "outputs": [
    {
     "data": {
      "text/plain": [
       "<AxesSubplot:ylabel='month'>"
      ]
     },
     "execution_count": 13,
     "metadata": {},
     "output_type": "execute_result"
    },
    {
     "data": {
      "image/png": "[encoded data removed]",
      "text/plain": [
       "<Figure size 360x360 with 1 Axes>"
      ]
     },
     "metadata": {},
     "output_type": "display_data"
    }
   ],
   "source": [
    "plt.figure(figsize=(18,12))\n",
    "result['month'].value_counts().plot.pie(figsize=(5, 5),autopct='%1.2f%%',  shadow=True, startangle=90)\n",
    "\n"
   ]
  },
  {
   "cell_type": "markdown",
   "id": "afee2d5b",
   "metadata": {},
   "source": [
    "October has the highest ridership in about two thirds of the station, while July came second with the highest ridership in about 11 percent of the station"
   ]
  },
  {
   "cell_type": "code",
   "execution_count": 14,
   "id": "9c370f7b",
   "metadata": {},
   "outputs": [],
   "source": [
    "dic={}\n",
    "station_names=df.stationname.unique().tolist() # A list of unique station names through which we loop\n",
    "for name in station_names:\n",
    "    i=ff[ff['stationname']==name]['rides'].argmin()\n",
    "    dic[name]=ff[ff['stationname']==name]['month'].iloc[i]\n",
    "    \n",
    "result= pd.DataFrame({'stationname':list(dic.keys()), 'month':list(dic.values())})"
   ]
  },
  {
   "cell_type": "code",
   "execution_count": 15,
   "id": "02ec3b71",
   "metadata": {},
   "outputs": [
    {
     "data": {
      "text/plain": [
       "<AxesSubplot:ylabel='month'>"
      ]
     },
     "execution_count": 15,
     "metadata": {},
     "output_type": "execute_result"
    },
    {
     "data": {
      "image/png": "[encoded data removed]",
      "text/plain": [
       "<Figure size 360x360 with 1 Axes>"
      ]
     },
     "metadata": {},
     "output_type": "display_data"
    }
   ],
   "source": [
    "plt.figure(figsize=(18,12))\n",
    "result['month'].value_counts().plot.pie(figsize=(5, 5),autopct='%1.2f%%',  shadow=True, startangle=90)\n"
   ]
  },
  {
   "cell_type": "markdown",
   "id": "0129c058",
   "metadata": {},
   "source": [
    "About 82 percent of the stations experienced the lowest ridership in December while February has the least ridership in about 14 percent of the stations. "
   ]
  },
  {
   "cell_type": "markdown",
   "id": "c6e6b6cb",
   "metadata": {},
   "source": [
    "### Which station is busier: O'Hare aIrport or Midway airport?"
   ]
  },
  {
   "cell_type": "markdown",
   "id": "3f896e85",
   "metadata": {},
   "source": [
    "To be fair and before the overall ridership for both the stations is compared, we need to ensure that the stations have the same data size. "
   ]
  },
  {
   "cell_type": "code",
   "execution_count": 16,
   "id": "7fc41f20",
   "metadata": {},
   "outputs": [
    {
     "data": {
      "text/plain": [
       "(5813, 7)"
      ]
     },
     "execution_count": 16,
     "metadata": {},
     "output_type": "execute_result"
    }
   ],
   "source": [
    "# Size of OHare Airport dataset\n",
    "O=df[df['stationname']=='OHare Airport']\n",
    "O.shape"
   ]
  },
  {
   "cell_type": "code",
   "execution_count": 17,
   "id": "bb832209",
   "metadata": {},
   "outputs": [
    {
     "data": {
      "text/plain": [
       "(5814, 7)"
      ]
     },
     "execution_count": 17,
     "metadata": {},
     "output_type": "execute_result"
    }
   ],
   "source": [
    "# Size of Midway Airport dataset\n",
    "M=df[df['stationname']=='Midway Airport']\n",
    "M.shape"
   ]
  },
  {
   "cell_type": "markdown",
   "id": "3c261cab",
   "metadata": {},
   "source": [
    "As can be seen above, the O'Hare Airport's dataset is one record larger than  the Midway Airport's dataset. Let's check if the two datasets have identical date columns. "
   ]
  },
  {
   "cell_type": "code",
   "execution_count": 18,
   "id": "6d4161f2",
   "metadata": {},
   "outputs": [],
   "source": [
    "# Sort the date column of each station dataframe and convert it to a list\n",
    "date_O=df[df['stationname']=='OHare Airport'].date.sort_values().astype(str).tolist()\n",
    "date_M=df[df['stationname']=='Midway Airport'].date.sort_values().astype(str).tolist()"
   ]
  },
  {
   "cell_type": "markdown",
   "id": "d5a6040c",
   "metadata": {},
   "source": [
    "### Are they identical?"
   ]
  },
  {
   "cell_type": "code",
   "execution_count": 19,
   "id": "7a0d25e3",
   "metadata": {},
   "outputs": [
    {
     "data": {
      "text/plain": [
       "False"
      ]
     },
     "execution_count": 19,
     "metadata": {},
     "output_type": "execute_result"
    }
   ],
   "source": [
    "date_O==date_M"
   ]
  },
  {
   "cell_type": "markdown",
   "id": "92cf233a",
   "metadata": {},
   "source": [
    "No, they are not identical. As the O'Hare Airport dataset is larger by one record, there might have been a duplicated date value. We will now find that date value"
   ]
  },
  {
   "cell_type": "code",
   "execution_count": 20,
   "id": "783df2bc",
   "metadata": {},
   "outputs": [],
   "source": [
    "L=[]\n",
    "for i , j in zip(date_O,date_M):\n",
    "    if i!=j:\n",
    "        L.append((i,j))\n",
    "       "
   ]
  },
  {
   "cell_type": "code",
   "execution_count": 21,
   "id": "d3c4db5d",
   "metadata": {},
   "outputs": [
    {
     "data": {
      "text/plain": [
       "[('2011-08-11', '2011-08-10'),\n",
       " ('2011-08-12', '2011-08-11'),\n",
       " ('2011-08-13', '2011-08-12')]"
      ]
     },
     "execution_count": 21,
     "metadata": {},
     "output_type": "execute_result"
    }
   ],
   "source": [
    "L[0:3]"
   ]
  },
  {
   "cell_type": "markdown",
   "id": "ce3f7e1a",
   "metadata": {},
   "source": [
    "I can see here that '2011-08-10' is duplicated in the Midway Airport dataset. Let us show now the Midway Airport dataset for the date value of '2011-08-08'."
   ]
  },
  {
   "cell_type": "code",
   "execution_count": 22,
   "id": "421e8865",
   "metadata": {},
   "outputs": [
    {
     "data": {
      "text/html": [
       "<div>\n",
       "<style scoped>\n",
       "    .dataframe tbody tr th:only-of-type {\n",
       "        vertical-align: middle;\n",
       "    }\n",
       "\n",
       "    .dataframe tbody tr th {\n",
       "        vertical-align: top;\n",
       "    }\n",
       "\n",
       "    .dataframe thead th {\n",
       "        text-align: right;\n",
       "    }\n",
       "</style>\n",
       "<table border=\"1\" class=\"dataframe\">\n",
       "  <thead>\n",
       "    <tr style=\"text-align: right;\">\n",
       "      <th></th>\n",
       "      <th>station_id</th>\n",
       "      <th>stationname</th>\n",
       "      <th>date</th>\n",
       "      <th>daytype</th>\n",
       "      <th>rides</th>\n",
       "      <th>year</th>\n",
       "      <th>month</th>\n",
       "    </tr>\n",
       "  </thead>\n",
       "  <tbody>\n",
       "    <tr>\n",
       "      <th>549625</th>\n",
       "      <td>40930</td>\n",
       "      <td>Midway Airport</td>\n",
       "      <td>2011-08-10</td>\n",
       "      <td>W</td>\n",
       "      <td>8907</td>\n",
       "      <td>2011</td>\n",
       "      <td>8</td>\n",
       "    </tr>\n",
       "    <tr>\n",
       "      <th>549626</th>\n",
       "      <td>40930</td>\n",
       "      <td>Midway Airport</td>\n",
       "      <td>2011-08-10</td>\n",
       "      <td>W</td>\n",
       "      <td>8908</td>\n",
       "      <td>2011</td>\n",
       "      <td>8</td>\n",
       "    </tr>\n",
       "  </tbody>\n",
       "</table>\n",
       "</div>"
      ],
      "text/plain": [
       "        station_id     stationname       date daytype  rides  year  month\n",
       "549625       40930  Midway Airport 2011-08-10       W   8907  2011      8\n",
       "549626       40930  Midway Airport 2011-08-10       W   8908  2011      8"
      ]
     },
     "execution_count": 22,
     "metadata": {},
     "output_type": "execute_result"
    }
   ],
   "source": [
    "df[(df['stationname']=='Midway Airport')&(df['date']==datetime(2011,8,10))]"
   ]
  },
  {
   "cell_type": "markdown",
   "id": "88943770",
   "metadata": {},
   "source": [
    "It is extremly obvious that the record corresponding to '2011-08-08' is duplicated. The rides value for these records differ by 1. One of these  records needs to be removed. Let's remove the row with the index value of 549625. "
   ]
  },
  {
   "cell_type": "code",
   "execution_count": 23,
   "id": "7d41bcc4",
   "metadata": {},
   "outputs": [],
   "source": [
    "df.drop(index=549625,  inplace=True)"
   ]
  },
  {
   "cell_type": "code",
   "execution_count": 24,
   "id": "aa3c3dc6",
   "metadata": {},
   "outputs": [
    {
     "name": "stdout",
     "output_type": "stream",
     "text": [
      "(5813, 7) (5813, 7)\n"
     ]
    }
   ],
   "source": [
    "# Size of OHare Airport dataset\n",
    "O=df[df['stationname']=='OHare Airport']\n",
    "# Size of Midway Airport dataset\n",
    "M=df[df['stationname']=='Midway Airport']\n",
    "print(O.shape, M.shape)"
   ]
  },
  {
   "cell_type": "markdown",
   "id": "bdb01a8f",
   "metadata": {},
   "source": [
    "### The total rides at OHare Airport and Midway Airport over the study period "
   ]
  },
  {
   "cell_type": "code",
   "execution_count": 25,
   "id": "1c8c92e3",
   "metadata": {},
   "outputs": [
    {
     "data": {
      "text/plain": [
       "52146279"
      ]
     },
     "execution_count": 25,
     "metadata": {},
     "output_type": "execute_result"
    }
   ],
   "source": [
    "df[df['stationname']=='OHare Airport']['rides'].agg('sum')"
   ]
  },
  {
   "cell_type": "code",
   "execution_count": 26,
   "id": "c11bdee7",
   "metadata": {},
   "outputs": [
    {
     "data": {
      "text/plain": [
       "42649715"
      ]
     },
     "execution_count": 26,
     "metadata": {},
     "output_type": "execute_result"
    }
   ],
   "source": [
    "df[df['stationname']=='Midway Airport']['rides'].agg('sum')"
   ]
  },
  {
   "cell_type": "markdown",
   "id": "2b64b1fd",
   "metadata": {},
   "source": [
    "The O'Hare Airport is busier than Midway Airport station."
   ]
  },
  {
   "cell_type": "code",
   "execution_count": 27,
   "id": "0f3d8397",
   "metadata": {},
   "outputs": [
    {
     "data": {
      "text/html": [
       "<div>\n",
       "<style scoped>\n",
       "    .dataframe tbody tr th:only-of-type {\n",
       "        vertical-align: middle;\n",
       "    }\n",
       "\n",
       "    .dataframe tbody tr th {\n",
       "        vertical-align: top;\n",
       "    }\n",
       "\n",
       "    .dataframe thead th {\n",
       "        text-align: right;\n",
       "    }\n",
       "</style>\n",
       "<table border=\"1\" class=\"dataframe\">\n",
       "  <thead>\n",
       "    <tr style=\"text-align: right;\">\n",
       "      <th></th>\n",
       "      <th>stationname</th>\n",
       "      <th>year</th>\n",
       "      <th>rides</th>\n",
       "    </tr>\n",
       "  </thead>\n",
       "  <tbody>\n",
       "    <tr>\n",
       "      <th>0</th>\n",
       "      <td>Midway Airport</td>\n",
       "      <td>2001</td>\n",
       "      <td>2358665</td>\n",
       "    </tr>\n",
       "    <tr>\n",
       "      <th>1</th>\n",
       "      <td>Midway Airport</td>\n",
       "      <td>2002</td>\n",
       "      <td>2390529</td>\n",
       "    </tr>\n",
       "    <tr>\n",
       "      <th>2</th>\n",
       "      <td>Midway Airport</td>\n",
       "      <td>2003</td>\n",
       "      <td>2490985</td>\n",
       "    </tr>\n",
       "    <tr>\n",
       "      <th>3</th>\n",
       "      <td>Midway Airport</td>\n",
       "      <td>2004</td>\n",
       "      <td>2535682</td>\n",
       "    </tr>\n",
       "    <tr>\n",
       "      <th>4</th>\n",
       "      <td>Midway Airport</td>\n",
       "      <td>2005</td>\n",
       "      <td>2671691</td>\n",
       "    </tr>\n",
       "  </tbody>\n",
       "</table>\n",
       "</div>"
      ],
      "text/plain": [
       "      stationname  year    rides\n",
       "0  Midway Airport  2001  2358665\n",
       "1  Midway Airport  2002  2390529\n",
       "2  Midway Airport  2003  2490985\n",
       "3  Midway Airport  2004  2535682\n",
       "4  Midway Airport  2005  2671691"
      ]
     },
     "execution_count": 27,
     "metadata": {},
     "output_type": "execute_result"
    }
   ],
   "source": [
    "df_airport=df[(df['stationname']=='OHare Airport') | (df['stationname']=='Midway Airport')].groupby(['stationname','year'])['rides'].agg('sum').reset_index()\n",
    "df_airport.head()"
   ]
  },
  {
   "cell_type": "code",
   "execution_count": 35,
   "id": "d43ef8fc",
   "metadata": {},
   "outputs": [
    {
     "data": {
      "image/png": "[encoded data removed]",
      "text/plain": [
       "<Figure size 432x288 with 1 Axes>"
      ]
     },
     "metadata": {
      "needs_background": "light"
     },
     "output_type": "display_data"
    }
   ],
   "source": [
    "sns.lineplot(x='year',y='rides', hue='stationname', data=df_airport)\n",
    "plt.grid(True)"
   ]
  },
  {
   "cell_type": "markdown",
   "id": "31d839cf",
   "metadata": {},
   "source": [
    "The figure above shows how the yearly average ridership rouphly goes up and down the same for both stations.  Also, it demonstrates that the number of passengers whyo entered the O'Hare Airport station is higher than that of passengers who entered the Midway Airport station between 2001 and 2016"
   ]
  },
  {
   "cell_type": "code",
   "execution_count": 31,
   "id": "8461e94d",
   "metadata": {},
   "outputs": [
    {
     "data": {
      "image/png": "[encoded data removed]",
      "text/plain": [
       "<Figure size 432x288 with 1 Axes>"
      ]
     },
     "metadata": {
      "needs_background": "light"
     },
     "output_type": "display_data"
    }
   ],
   "source": [
    "x=df[df['stationname']=='OHare Airport']['rides']\n",
    "y=df[df['stationname']=='Midway Airport']['rides']\n",
    "plt.scatter(x,y)\n",
    "plt.grid(True)"
   ]
  },
  {
   "cell_type": "code",
   "execution_count": 42,
   "id": "8bf1d0fc",
   "metadata": {},
   "outputs": [
    {
     "data": {
      "text/html": [
       "<div>\n",
       "<style scoped>\n",
       "    .dataframe tbody tr th:only-of-type {\n",
       "        vertical-align: middle;\n",
       "    }\n",
       "\n",
       "    .dataframe tbody tr th {\n",
       "        vertical-align: top;\n",
       "    }\n",
       "\n",
       "    .dataframe thead th {\n",
       "        text-align: right;\n",
       "    }\n",
       "</style>\n",
       "<table border=\"1\" class=\"dataframe\">\n",
       "  <thead>\n",
       "    <tr style=\"text-align: right;\">\n",
       "      <th></th>\n",
       "      <th>station_id</th>\n",
       "      <th>stationname</th>\n",
       "      <th>date</th>\n",
       "      <th>daytype</th>\n",
       "      <th>rides</th>\n",
       "      <th>year</th>\n",
       "      <th>month</th>\n",
       "    </tr>\n",
       "  </thead>\n",
       "  <tbody>\n",
       "    <tr>\n",
       "      <th>62160</th>\n",
       "      <td>40890</td>\n",
       "      <td>OHare Airport</td>\n",
       "      <td>2002-03-15</td>\n",
       "      <td>W</td>\n",
       "      <td>22</td>\n",
       "      <td>2002</td>\n",
       "      <td>3</td>\n",
       "    </tr>\n",
       "    <tr>\n",
       "      <th>62302</th>\n",
       "      <td>40890</td>\n",
       "      <td>OHare Airport</td>\n",
       "      <td>2002-03-16</td>\n",
       "      <td>A</td>\n",
       "      <td>0</td>\n",
       "      <td>2002</td>\n",
       "      <td>3</td>\n",
       "    </tr>\n",
       "    <tr>\n",
       "      <th>389754</th>\n",
       "      <td>40890</td>\n",
       "      <td>OHare Airport</td>\n",
       "      <td>2008-07-08</td>\n",
       "      <td>W</td>\n",
       "      <td>174</td>\n",
       "      <td>2008</td>\n",
       "      <td>7</td>\n",
       "    </tr>\n",
       "    <tr>\n",
       "      <th>389896</th>\n",
       "      <td>40890</td>\n",
       "      <td>OHare Airport</td>\n",
       "      <td>2008-07-09</td>\n",
       "      <td>W</td>\n",
       "      <td>0</td>\n",
       "      <td>2008</td>\n",
       "      <td>7</td>\n",
       "    </tr>\n",
       "    <tr>\n",
       "      <th>390038</th>\n",
       "      <td>40890</td>\n",
       "      <td>OHare Airport</td>\n",
       "      <td>2008-07-10</td>\n",
       "      <td>W</td>\n",
       "      <td>0</td>\n",
       "      <td>2008</td>\n",
       "      <td>7</td>\n",
       "    </tr>\n",
       "    <tr>\n",
       "      <th>390180</th>\n",
       "      <td>40890</td>\n",
       "      <td>OHare Airport</td>\n",
       "      <td>2008-07-11</td>\n",
       "      <td>W</td>\n",
       "      <td>0</td>\n",
       "      <td>2008</td>\n",
       "      <td>7</td>\n",
       "    </tr>\n",
       "    <tr>\n",
       "      <th>390322</th>\n",
       "      <td>40890</td>\n",
       "      <td>OHare Airport</td>\n",
       "      <td>2008-07-12</td>\n",
       "      <td>A</td>\n",
       "      <td>0</td>\n",
       "      <td>2008</td>\n",
       "      <td>7</td>\n",
       "    </tr>\n",
       "    <tr>\n",
       "      <th>390464</th>\n",
       "      <td>40890</td>\n",
       "      <td>OHare Airport</td>\n",
       "      <td>2008-07-13</td>\n",
       "      <td>U</td>\n",
       "      <td>0</td>\n",
       "      <td>2008</td>\n",
       "      <td>7</td>\n",
       "    </tr>\n",
       "    <tr>\n",
       "      <th>390606</th>\n",
       "      <td>40890</td>\n",
       "      <td>OHare Airport</td>\n",
       "      <td>2008-07-14</td>\n",
       "      <td>W</td>\n",
       "      <td>0</td>\n",
       "      <td>2008</td>\n",
       "      <td>7</td>\n",
       "    </tr>\n",
       "    <tr>\n",
       "      <th>390748</th>\n",
       "      <td>40890</td>\n",
       "      <td>OHare Airport</td>\n",
       "      <td>2008-07-15</td>\n",
       "      <td>W</td>\n",
       "      <td>0</td>\n",
       "      <td>2008</td>\n",
       "      <td>7</td>\n",
       "    </tr>\n",
       "    <tr>\n",
       "      <th>390890</th>\n",
       "      <td>40890</td>\n",
       "      <td>OHare Airport</td>\n",
       "      <td>2008-07-16</td>\n",
       "      <td>W</td>\n",
       "      <td>0</td>\n",
       "      <td>2008</td>\n",
       "      <td>7</td>\n",
       "    </tr>\n",
       "    <tr>\n",
       "      <th>391032</th>\n",
       "      <td>40890</td>\n",
       "      <td>OHare Airport</td>\n",
       "      <td>2008-07-17</td>\n",
       "      <td>W</td>\n",
       "      <td>0</td>\n",
       "      <td>2008</td>\n",
       "      <td>7</td>\n",
       "    </tr>\n",
       "    <tr>\n",
       "      <th>391174</th>\n",
       "      <td>40890</td>\n",
       "      <td>OHare Airport</td>\n",
       "      <td>2008-07-18</td>\n",
       "      <td>W</td>\n",
       "      <td>0</td>\n",
       "      <td>2008</td>\n",
       "      <td>7</td>\n",
       "    </tr>\n",
       "    <tr>\n",
       "      <th>391316</th>\n",
       "      <td>40890</td>\n",
       "      <td>OHare Airport</td>\n",
       "      <td>2008-07-19</td>\n",
       "      <td>A</td>\n",
       "      <td>0</td>\n",
       "      <td>2008</td>\n",
       "      <td>7</td>\n",
       "    </tr>\n",
       "    <tr>\n",
       "      <th>391458</th>\n",
       "      <td>40890</td>\n",
       "      <td>OHare Airport</td>\n",
       "      <td>2008-07-20</td>\n",
       "      <td>U</td>\n",
       "      <td>0</td>\n",
       "      <td>2008</td>\n",
       "      <td>7</td>\n",
       "    </tr>\n",
       "    <tr>\n",
       "      <th>391600</th>\n",
       "      <td>40890</td>\n",
       "      <td>OHare Airport</td>\n",
       "      <td>2008-07-21</td>\n",
       "      <td>W</td>\n",
       "      <td>0</td>\n",
       "      <td>2008</td>\n",
       "      <td>7</td>\n",
       "    </tr>\n",
       "    <tr>\n",
       "      <th>391742</th>\n",
       "      <td>40890</td>\n",
       "      <td>OHare Airport</td>\n",
       "      <td>2008-07-22</td>\n",
       "      <td>W</td>\n",
       "      <td>0</td>\n",
       "      <td>2008</td>\n",
       "      <td>7</td>\n",
       "    </tr>\n",
       "    <tr>\n",
       "      <th>391884</th>\n",
       "      <td>40890</td>\n",
       "      <td>OHare Airport</td>\n",
       "      <td>2008-07-23</td>\n",
       "      <td>W</td>\n",
       "      <td>0</td>\n",
       "      <td>2008</td>\n",
       "      <td>7</td>\n",
       "    </tr>\n",
       "    <tr>\n",
       "      <th>684932</th>\n",
       "      <td>40890</td>\n",
       "      <td>OHare Airport</td>\n",
       "      <td>2014-03-24</td>\n",
       "      <td>W</td>\n",
       "      <td>276</td>\n",
       "      <td>2014</td>\n",
       "      <td>3</td>\n",
       "    </tr>\n",
       "    <tr>\n",
       "      <th>684933</th>\n",
       "      <td>40890</td>\n",
       "      <td>OHare Airport</td>\n",
       "      <td>2014-03-25</td>\n",
       "      <td>W</td>\n",
       "      <td>45</td>\n",
       "      <td>2014</td>\n",
       "      <td>3</td>\n",
       "    </tr>\n",
       "    <tr>\n",
       "      <th>684934</th>\n",
       "      <td>40890</td>\n",
       "      <td>OHare Airport</td>\n",
       "      <td>2014-03-26</td>\n",
       "      <td>W</td>\n",
       "      <td>36</td>\n",
       "      <td>2014</td>\n",
       "      <td>3</td>\n",
       "    </tr>\n",
       "    <tr>\n",
       "      <th>684935</th>\n",
       "      <td>40890</td>\n",
       "      <td>OHare Airport</td>\n",
       "      <td>2014-03-27</td>\n",
       "      <td>W</td>\n",
       "      <td>24</td>\n",
       "      <td>2014</td>\n",
       "      <td>3</td>\n",
       "    </tr>\n",
       "    <tr>\n",
       "      <th>684936</th>\n",
       "      <td>40890</td>\n",
       "      <td>OHare Airport</td>\n",
       "      <td>2014-03-28</td>\n",
       "      <td>W</td>\n",
       "      <td>53</td>\n",
       "      <td>2014</td>\n",
       "      <td>3</td>\n",
       "    </tr>\n",
       "    <tr>\n",
       "      <th>684937</th>\n",
       "      <td>40890</td>\n",
       "      <td>OHare Airport</td>\n",
       "      <td>2014-03-29</td>\n",
       "      <td>A</td>\n",
       "      <td>59</td>\n",
       "      <td>2014</td>\n",
       "      <td>3</td>\n",
       "    </tr>\n",
       "  </tbody>\n",
       "</table>\n",
       "</div>"
      ],
      "text/plain": [
       "        station_id    stationname       date daytype  rides  year  month\n",
       "62160        40890  OHare Airport 2002-03-15       W     22  2002      3\n",
       "62302        40890  OHare Airport 2002-03-16       A      0  2002      3\n",
       "389754       40890  OHare Airport 2008-07-08       W    174  2008      7\n",
       "389896       40890  OHare Airport 2008-07-09       W      0  2008      7\n",
       "390038       40890  OHare Airport 2008-07-10       W      0  2008      7\n",
       "390180       40890  OHare Airport 2008-07-11       W      0  2008      7\n",
       "390322       40890  OHare Airport 2008-07-12       A      0  2008      7\n",
       "390464       40890  OHare Airport 2008-07-13       U      0  2008      7\n",
       "390606       40890  OHare Airport 2008-07-14       W      0  2008      7\n",
       "390748       40890  OHare Airport 2008-07-15       W      0  2008      7\n",
       "390890       40890  OHare Airport 2008-07-16       W      0  2008      7\n",
       "391032       40890  OHare Airport 2008-07-17       W      0  2008      7\n",
       "391174       40890  OHare Airport 2008-07-18       W      0  2008      7\n",
       "391316       40890  OHare Airport 2008-07-19       A      0  2008      7\n",
       "391458       40890  OHare Airport 2008-07-20       U      0  2008      7\n",
       "391600       40890  OHare Airport 2008-07-21       W      0  2008      7\n",
       "391742       40890  OHare Airport 2008-07-22       W      0  2008      7\n",
       "391884       40890  OHare Airport 2008-07-23       W      0  2008      7\n",
       "684932       40890  OHare Airport 2014-03-24       W    276  2014      3\n",
       "684933       40890  OHare Airport 2014-03-25       W     45  2014      3\n",
       "684934       40890  OHare Airport 2014-03-26       W     36  2014      3\n",
       "684935       40890  OHare Airport 2014-03-27       W     24  2014      3\n",
       "684936       40890  OHare Airport 2014-03-28       W     53  2014      3\n",
       "684937       40890  OHare Airport 2014-03-29       A     59  2014      3"
      ]
     },
     "execution_count": 42,
     "metadata": {},
     "output_type": "execute_result"
    }
   ],
   "source": [
    "df[(df['stationname']=='OHare Airport')&(df['rides']<1000)]"
   ]
  },
  {
   "cell_type": "markdown",
   "id": "2c8e3835",
   "metadata": {},
   "source": [
    "The table shows that there were no entries to the O'Hare Airport station between 9th of July and 23rd of July 2008. The station could be closed for some reasons and the figures shows that it was not operating normally over that period. Those days should be excluded from the dataset. "
   ]
  },
  {
   "cell_type": "markdown",
   "id": "93f855b8",
   "metadata": {},
   "source": [
    "### Computing correlation\n",
    "To measure if the riderships of the two airport stations grow together,  the Spearman rank correlation coefficient is used. "
   ]
  },
  {
   "cell_type": "code",
   "execution_count": 32,
   "id": "78f48b95",
   "metadata": {},
   "outputs": [
    {
     "name": "stdout",
     "output_type": "stream",
     "text": [
      "The correlation is 0.7118715320304316\n",
      "It is statistically significant.\n"
     ]
    }
   ],
   "source": [
    "from scipy.stats import spearmanr\n",
    "\n",
    "(correlation, pValue) = spearmanr(x, y)\n",
    "print('The correlation is', correlation)\n",
    "if pValue < 0.05:\n",
    "    print('It is statistically significant.')\n",
    "else:\n",
    "    print('It is not statistically significant.')"
   ]
  }
 ],
 "metadata": {
  "kernelspec": {
   "display_name": "Python 3",
   "language": "python",
   "name": "python3"
  },
  "language_info": {
   "codemirror_mode": {
    "name": "ipython",
    "version": 3
   },
   "file_extension": ".py",
   "mimetype": "text/x-python",
   "name": "python",
   "nbconvert_exporter": "python",
   "pygments_lexer": "ipython3",
   "version": "3.8.8"
  }
 },
 "nbformat": 4,
 "nbformat_minor": 5
}
