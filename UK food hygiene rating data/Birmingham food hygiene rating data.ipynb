{
 "cells": [
  {
   "cell_type": "markdown",
   "id": "b8026163",
   "metadata": {},
   "source": [
    "# <center> Project: Birmingham food hygiene rating data </center>"
   ]
  },
  {
   "cell_type": "markdown",
   "id": "44a85172",
   "metadata": {},
   "source": [
    "By Bashar Mohammad, 6 January 2022\n",
    "\n",
    "The data provides the food hygiene rating or inspection result given to a business and reflects the standards of food hygiene found on the date of inspection or visit by the local authority. Businesses include restaurants, pubs, cafés, takeaways, hotels and other places consumers eat, as well as in supermarkets and other food shops. The data is held on behalf of local authorities participating in the Food Standards Agency's national Food Hygiene Rating Scheme (FHRS) in England, Northern Ireland and Wales or the Food Hygiene Information Scheme (FHIS) in Scotland. Data is only available for local authority areas running either of these schemes. We will analyze the data:\n",
    "\n",
    "- Which area in Birmingham does have the highest mean score, given that score is equal to the sum of the three score components?\n",
    "\n",
    "- Reveal the geographical count distribution of the permises?\n",
    "\n",
    "- Using the mean hygiene score, which type of business is the most hygienic? \n",
    "- Show the count distribution of permises across business types?\n",
    "\n",
    "- Which permise does is the most hygienic across business types?\n",
    "\n",
    "- Is there any correlation among the component score?\n",
    "\n",
    "- Which university/college does have the best score?\n",
    "\n",
    "\n",
    "\n",
    "https://data.gov.uk/dataset/d4988f8e-0862-4e2f-afc4-9dad8c7f7879/uk-food-hygiene-rating-data-west-midlands-food-standards-agency"
   ]
  },
  {
   "cell_type": "code",
   "execution_count": 1,
   "id": "d37ca3d8",
   "metadata": {},
   "outputs": [],
   "source": [
    "import xml.etree.ElementTree as ETree\n",
    "import pandas as pd\n",
    "import numpy as np"
   ]
  },
  {
   "cell_type": "markdown",
   "id": "83038fed",
   "metadata": {},
   "source": [
    "## Loading data from XML files"
   ]
  },
  {
   "cell_type": "code",
   "execution_count": 2,
   "id": "8ed9c4cd",
   "metadata": {},
   "outputs": [],
   "source": [
    "# Read data from an XML file\n",
    "prstree = ETree.parse('birmingham_hygiene.xml')"
   ]
  },
  {
   "cell_type": "code",
   "execution_count": 6,
   "id": "c6c5f3bd",
   "metadata": {},
   "outputs": [
    {
     "data": {
      "text/plain": [
       "<Element 'FHRSEstablishment' at 0x7f71e939cb80>"
      ]
     },
     "execution_count": 6,
     "metadata": {},
     "output_type": "execute_result"
    }
   ],
   "source": [
    "# Get the root element\n",
    "root = prstree.getroot()\n",
    "root"
   ]
  },
  {
   "cell_type": "code",
   "execution_count": 7,
   "id": "db76f9ca",
   "metadata": {},
   "outputs": [],
   "source": [
    "store_items = []\n",
    "all_items = []"
   ]
  },
  {
   "cell_type": "code",
   "execution_count": 8,
   "id": "cfd417d0",
   "metadata": {},
   "outputs": [],
   "source": [
    "# Iterate through the root node to extract the text values of each attribute "
   ]
  },
  {
   "cell_type": "code",
   "execution_count": 9,
   "id": "1caa0fc6",
   "metadata": {},
   "outputs": [
    {
     "data": {
      "text/plain": [
       "'Birmingham'"
      ]
     },
     "execution_count": 9,
     "metadata": {},
     "output_type": "execute_result"
    }
   ],
   "source": [
    "root[1][0].find('LocalAuthorityName').text"
   ]
  },
  {
   "cell_type": "code",
   "execution_count": 10,
   "id": "2ddf460f",
   "metadata": {},
   "outputs": [],
   "source": [
    "for store in root.iter('EstablishmentDetail'):\n",
    "    \n",
    "    BusinessType = store.find('BusinessType').text\n",
    "    BusinessName = store.find('BusinessName').text\n",
    "    \n",
    "    if store.find('PostCode') is not None:\n",
    "        PostCode = store.find('PostCode').text\n",
    "    else:\n",
    "        PostCode=np.NaN\n",
    "\n",
    "    LocalAuthorityName=store.find('LocalAuthorityName').text\n",
    "\n",
    "  # Get the respective store items with specifications as a unit appended to a list\n",
    "    store_items = [BusinessType, BusinessName,LocalAuthorityName, PostCode]\n",
    "    all_items.append(store_items)"
   ]
  },
  {
   "cell_type": "code",
   "execution_count": 11,
   "id": "4c2055ba",
   "metadata": {},
   "outputs": [],
   "source": [
    "df_stores = pd.DataFrame(all_items, columns=['BusinessType', 'BusinessName','LocalAuthorityName','PostCode'])"
   ]
  },
  {
   "cell_type": "code",
   "execution_count": 12,
   "id": "9849c76a",
   "metadata": {},
   "outputs": [],
   "source": [
    "score_items=[]\n",
    "all_scores=[]"
   ]
  },
  {
   "cell_type": "code",
   "execution_count": 13,
   "id": "5955eb25",
   "metadata": {},
   "outputs": [],
   "source": [
    "for score in root.iter('Scores'):\n",
    "    \n",
    "    if score.find('Hygiene') is not None:\n",
    "        Hygiene = score.find('Hygiene').text\n",
    "    else:\n",
    "        Hygiene=np.NaN\n",
    "        \n",
    "    if score.find('Structural') is not None:\n",
    "        Structural = score.find('Structural').text\n",
    "    else:\n",
    "        Structural=np.NaN\n",
    "    \n",
    "            \n",
    "    if score.find('ConfidenceInManagement') is not None:\n",
    "        ConfidenceInManagement = score.find('ConfidenceInManagement').text\n",
    "    else:\n",
    "        ConfidenceInManagement=np.NaN\n",
    "\n",
    "\n",
    "  \n",
    "    score_items = [Hygiene, Structural,ConfidenceInManagement]\n",
    "    all_scores.append(score_items)"
   ]
  },
  {
   "cell_type": "code",
   "execution_count": 14,
   "id": "566439fa",
   "metadata": {},
   "outputs": [
    {
     "data": {
      "text/html": [
       "<div>\n",
       "<style scoped>\n",
       "    .dataframe tbody tr th:only-of-type {\n",
       "        vertical-align: middle;\n",
       "    }\n",
       "\n",
       "    .dataframe tbody tr th {\n",
       "        vertical-align: top;\n",
       "    }\n",
       "\n",
       "    .dataframe thead th {\n",
       "        text-align: right;\n",
       "    }\n",
       "</style>\n",
       "<table border=\"1\" class=\"dataframe\">\n",
       "  <thead>\n",
       "    <tr style=\"text-align: right;\">\n",
       "      <th></th>\n",
       "      <th>Hygiene</th>\n",
       "      <th>Structural</th>\n",
       "      <th>ConfidenceInManagement</th>\n",
       "    </tr>\n",
       "  </thead>\n",
       "  <tbody>\n",
       "    <tr>\n",
       "      <th>0</th>\n",
       "      <td>NaN</td>\n",
       "      <td>NaN</td>\n",
       "      <td>NaN</td>\n",
       "    </tr>\n",
       "    <tr>\n",
       "      <th>1</th>\n",
       "      <td>NaN</td>\n",
       "      <td>NaN</td>\n",
       "      <td>NaN</td>\n",
       "    </tr>\n",
       "    <tr>\n",
       "      <th>2</th>\n",
       "      <td>NaN</td>\n",
       "      <td>NaN</td>\n",
       "      <td>NaN</td>\n",
       "    </tr>\n",
       "    <tr>\n",
       "      <th>3</th>\n",
       "      <td>10</td>\n",
       "      <td>5</td>\n",
       "      <td>5</td>\n",
       "    </tr>\n",
       "    <tr>\n",
       "      <th>4</th>\n",
       "      <td>NaN</td>\n",
       "      <td>NaN</td>\n",
       "      <td>NaN</td>\n",
       "    </tr>\n",
       "    <tr>\n",
       "      <th>...</th>\n",
       "      <td>...</td>\n",
       "      <td>...</td>\n",
       "      <td>...</td>\n",
       "    </tr>\n",
       "    <tr>\n",
       "      <th>9697</th>\n",
       "      <td>NaN</td>\n",
       "      <td>NaN</td>\n",
       "      <td>NaN</td>\n",
       "    </tr>\n",
       "    <tr>\n",
       "      <th>9698</th>\n",
       "      <td>NaN</td>\n",
       "      <td>NaN</td>\n",
       "      <td>NaN</td>\n",
       "    </tr>\n",
       "    <tr>\n",
       "      <th>9699</th>\n",
       "      <td>15</td>\n",
       "      <td>25</td>\n",
       "      <td>30</td>\n",
       "    </tr>\n",
       "    <tr>\n",
       "      <th>9700</th>\n",
       "      <td>NaN</td>\n",
       "      <td>NaN</td>\n",
       "      <td>NaN</td>\n",
       "    </tr>\n",
       "    <tr>\n",
       "      <th>9701</th>\n",
       "      <td>NaN</td>\n",
       "      <td>NaN</td>\n",
       "      <td>NaN</td>\n",
       "    </tr>\n",
       "  </tbody>\n",
       "</table>\n",
       "<p>9702 rows × 3 columns</p>\n",
       "</div>"
      ],
      "text/plain": [
       "     Hygiene Structural ConfidenceInManagement\n",
       "0        NaN        NaN                    NaN\n",
       "1        NaN        NaN                    NaN\n",
       "2        NaN        NaN                    NaN\n",
       "3         10          5                      5\n",
       "4        NaN        NaN                    NaN\n",
       "...      ...        ...                    ...\n",
       "9697     NaN        NaN                    NaN\n",
       "9698     NaN        NaN                    NaN\n",
       "9699      15         25                     30\n",
       "9700     NaN        NaN                    NaN\n",
       "9701     NaN        NaN                    NaN\n",
       "\n",
       "[9702 rows x 3 columns]"
      ]
     },
     "execution_count": 14,
     "metadata": {},
     "output_type": "execute_result"
    }
   ],
   "source": [
    "df_scores = pd.DataFrame(all_scores, columns=['Hygiene', 'Structural','ConfidenceInManagement'])\n",
    "df_scores"
   ]
  },
  {
   "cell_type": "code",
   "execution_count": 15,
   "id": "58099925",
   "metadata": {},
   "outputs": [],
   "source": [
    "df=pd.concat([df_stores, df_scores], axis=1)"
   ]
  },
  {
   "cell_type": "code",
   "execution_count": 37,
   "id": "3c736200",
   "metadata": {},
   "outputs": [
    {
     "data": {
      "text/plain": [
       "Index(['BusinessType', 'BusinessName', 'LocalAuthorityName', 'PostCode',\n",
       "       'Hygiene', 'Structural', 'ConfidenceInManagement', 'Zone', 'Score'],\n",
       "      dtype='object')"
      ]
     },
     "execution_count": 37,
     "metadata": {},
     "output_type": "execute_result"
    }
   ],
   "source": [
    "df.columns"
   ]
  },
  {
   "cell_type": "code",
   "execution_count": 16,
   "id": "03db5d19",
   "metadata": {},
   "outputs": [
    {
     "data": {
      "text/html": [
       "<div>\n",
       "<style scoped>\n",
       "    .dataframe tbody tr th:only-of-type {\n",
       "        vertical-align: middle;\n",
       "    }\n",
       "\n",
       "    .dataframe tbody tr th {\n",
       "        vertical-align: top;\n",
       "    }\n",
       "\n",
       "    .dataframe thead th {\n",
       "        text-align: right;\n",
       "    }\n",
       "</style>\n",
       "<table border=\"1\" class=\"dataframe\">\n",
       "  <thead>\n",
       "    <tr style=\"text-align: right;\">\n",
       "      <th></th>\n",
       "      <th>BusinessType</th>\n",
       "      <th>BusinessName</th>\n",
       "      <th>LocalAuthorityName</th>\n",
       "      <th>PostCode</th>\n",
       "      <th>Hygiene</th>\n",
       "      <th>Structural</th>\n",
       "      <th>ConfidenceInManagement</th>\n",
       "    </tr>\n",
       "  </thead>\n",
       "  <tbody>\n",
       "    <tr>\n",
       "      <th>0</th>\n",
       "      <td>Restaurant/Cafe/Canteen</td>\n",
       "      <td>&amp; More Coffee House</td>\n",
       "      <td>Birmingham</td>\n",
       "      <td>B4 6AT</td>\n",
       "      <td>NaN</td>\n",
       "      <td>NaN</td>\n",
       "      <td>NaN</td>\n",
       "    </tr>\n",
       "    <tr>\n",
       "      <th>1</th>\n",
       "      <td>Retailers - other</td>\n",
       "      <td>?</td>\n",
       "      <td>Birmingham</td>\n",
       "      <td>NaN</td>\n",
       "      <td>NaN</td>\n",
       "      <td>NaN</td>\n",
       "      <td>NaN</td>\n",
       "    </tr>\n",
       "    <tr>\n",
       "      <th>2</th>\n",
       "      <td>Other catering premises</td>\n",
       "      <td>@EDYS CAKE</td>\n",
       "      <td>Birmingham</td>\n",
       "      <td>NaN</td>\n",
       "      <td>NaN</td>\n",
       "      <td>NaN</td>\n",
       "      <td>NaN</td>\n",
       "    </tr>\n",
       "    <tr>\n",
       "      <th>3</th>\n",
       "      <td>Restaurant/Cafe/Canteen</td>\n",
       "      <td>@PIZZA</td>\n",
       "      <td>Birmingham</td>\n",
       "      <td>B2 4BF</td>\n",
       "      <td>10</td>\n",
       "      <td>5</td>\n",
       "      <td>5</td>\n",
       "    </tr>\n",
       "    <tr>\n",
       "      <th>4</th>\n",
       "      <td>Retailers - other</td>\n",
       "      <td>1 Stop Food and Drinks</td>\n",
       "      <td>Birmingham</td>\n",
       "      <td>B28 9LS</td>\n",
       "      <td>NaN</td>\n",
       "      <td>NaN</td>\n",
       "      <td>NaN</td>\n",
       "    </tr>\n",
       "    <tr>\n",
       "      <th>5</th>\n",
       "      <td>Restaurant/Cafe/Canteen</td>\n",
       "      <td>100 Degrees East</td>\n",
       "      <td>Birmingham</td>\n",
       "      <td>B13 9EF</td>\n",
       "      <td>15</td>\n",
       "      <td>10</td>\n",
       "      <td>10</td>\n",
       "    </tr>\n",
       "    <tr>\n",
       "      <th>6</th>\n",
       "      <td>Other catering premises</td>\n",
       "      <td>1000 Trades</td>\n",
       "      <td>Birmingham</td>\n",
       "      <td>B1 3HE</td>\n",
       "      <td>5</td>\n",
       "      <td>10</td>\n",
       "      <td>5</td>\n",
       "    </tr>\n",
       "  </tbody>\n",
       "</table>\n",
       "</div>"
      ],
      "text/plain": [
       "              BusinessType            BusinessName LocalAuthorityName  \\\n",
       "0  Restaurant/Cafe/Canteen     & More Coffee House         Birmingham   \n",
       "1        Retailers - other                       ?         Birmingham   \n",
       "2  Other catering premises              @EDYS CAKE         Birmingham   \n",
       "3  Restaurant/Cafe/Canteen                  @PIZZA         Birmingham   \n",
       "4        Retailers - other  1 Stop Food and Drinks         Birmingham   \n",
       "5  Restaurant/Cafe/Canteen        100 Degrees East         Birmingham   \n",
       "6  Other catering premises             1000 Trades         Birmingham   \n",
       "\n",
       "  PostCode Hygiene Structural ConfidenceInManagement  \n",
       "0   B4 6AT     NaN        NaN                    NaN  \n",
       "1      NaN     NaN        NaN                    NaN  \n",
       "2      NaN     NaN        NaN                    NaN  \n",
       "3   B2 4BF      10          5                      5  \n",
       "4  B28 9LS     NaN        NaN                    NaN  \n",
       "5  B13 9EF      15         10                     10  \n",
       "6   B1 3HE       5         10                      5  "
      ]
     },
     "execution_count": 16,
     "metadata": {},
     "output_type": "execute_result"
    }
   ],
   "source": [
    "df.head(7)"
   ]
  },
  {
   "cell_type": "markdown",
   "id": "9d207227",
   "metadata": {},
   "source": [
    "## Data Cleaning and Preparation"
   ]
  },
  {
   "cell_type": "code",
   "execution_count": 17,
   "id": "fa41a859",
   "metadata": {},
   "outputs": [
    {
     "data": {
      "text/plain": [
       "BusinessType                 0\n",
       "BusinessName                 0\n",
       "LocalAuthorityName           0\n",
       "PostCode                  1128\n",
       "Hygiene                   3117\n",
       "Structural                3117\n",
       "ConfidenceInManagement    3117\n",
       "dtype: int64"
      ]
     },
     "execution_count": 17,
     "metadata": {},
     "output_type": "execute_result"
    }
   ],
   "source": [
    "df.isnull().sum()"
   ]
  },
  {
   "cell_type": "code",
   "execution_count": 18,
   "id": "128bd311",
   "metadata": {},
   "outputs": [
    {
     "data": {
      "text/plain": [
       "(6088, 7)"
      ]
     },
     "execution_count": 18,
     "metadata": {},
     "output_type": "execute_result"
    }
   ],
   "source": [
    "df=df.dropna()\n",
    "df.shape"
   ]
  },
  {
   "cell_type": "code",
   "execution_count": 20,
   "id": "80318515",
   "metadata": {},
   "outputs": [
    {
     "data": {
      "text/html": [
       "<div>\n",
       "<style scoped>\n",
       "    .dataframe tbody tr th:only-of-type {\n",
       "        vertical-align: middle;\n",
       "    }\n",
       "\n",
       "    .dataframe tbody tr th {\n",
       "        vertical-align: top;\n",
       "    }\n",
       "\n",
       "    .dataframe thead th {\n",
       "        text-align: right;\n",
       "    }\n",
       "</style>\n",
       "<table border=\"1\" class=\"dataframe\">\n",
       "  <thead>\n",
       "    <tr style=\"text-align: right;\">\n",
       "      <th></th>\n",
       "      <th>BusinessType</th>\n",
       "      <th>BusinessName</th>\n",
       "      <th>LocalAuthorityName</th>\n",
       "      <th>PostCode</th>\n",
       "      <th>Hygiene</th>\n",
       "      <th>Structural</th>\n",
       "      <th>ConfidenceInManagement</th>\n",
       "    </tr>\n",
       "  </thead>\n",
       "  <tbody>\n",
       "    <tr>\n",
       "      <th>3</th>\n",
       "      <td>Restaurant/Cafe/Canteen</td>\n",
       "      <td>@PIZZA</td>\n",
       "      <td>Birmingham</td>\n",
       "      <td>B2 4BF</td>\n",
       "      <td>10</td>\n",
       "      <td>5</td>\n",
       "      <td>5</td>\n",
       "    </tr>\n",
       "    <tr>\n",
       "      <th>5</th>\n",
       "      <td>Restaurant/Cafe/Canteen</td>\n",
       "      <td>100 Degrees East</td>\n",
       "      <td>Birmingham</td>\n",
       "      <td>B13 9EF</td>\n",
       "      <td>15</td>\n",
       "      <td>10</td>\n",
       "      <td>10</td>\n",
       "    </tr>\n",
       "    <tr>\n",
       "      <th>6</th>\n",
       "      <td>Other catering premises</td>\n",
       "      <td>1000 Trades</td>\n",
       "      <td>Birmingham</td>\n",
       "      <td>B1 3HE</td>\n",
       "      <td>5</td>\n",
       "      <td>10</td>\n",
       "      <td>5</td>\n",
       "    </tr>\n",
       "  </tbody>\n",
       "</table>\n",
       "</div>"
      ],
      "text/plain": [
       "              BusinessType      BusinessName LocalAuthorityName PostCode  \\\n",
       "3  Restaurant/Cafe/Canteen            @PIZZA         Birmingham   B2 4BF   \n",
       "5  Restaurant/Cafe/Canteen  100 Degrees East         Birmingham  B13 9EF   \n",
       "6  Other catering premises       1000 Trades         Birmingham   B1 3HE   \n",
       "\n",
       "  Hygiene Structural ConfidenceInManagement  \n",
       "3      10          5                      5  \n",
       "5      15         10                     10  \n",
       "6       5         10                      5  "
      ]
     },
     "execution_count": 20,
     "metadata": {},
     "output_type": "execute_result"
    }
   ],
   "source": [
    "df.head(3)"
   ]
  },
  {
   "cell_type": "markdown",
   "id": "c2a126ad",
   "metadata": {},
   "source": [
    "###  Split the post codes into zones"
   ]
  },
  {
   "cell_type": "code",
   "execution_count": 21,
   "id": "10a7e449",
   "metadata": {},
   "outputs": [],
   "source": [
    "df['Zone']=df['PostCode'].apply(lambda x:x[0:3])"
   ]
  },
  {
   "cell_type": "code",
   "execution_count": 22,
   "id": "2ff001d8",
   "metadata": {},
   "outputs": [
    {
     "data": {
      "text/plain": [
       "array(['B2 ', 'B13', 'B1 ', 'B23', 'B15', 'B5 ', 'B11', 'B25', 'B29',\n",
       "       'B26', 'B3 ', 'B14', 'B18', 'B7 ', 'B10', 'B42', 'B21', 'B8 ',\n",
       "       'B74', 'B73', 'B12', 'B30', 'B6 ', 'B72', 'B19', 'B9 ', 'B33',\n",
       "       'B16', 'B20', 'B44', 'B27', 'B24', 'B75', 'B17', 'B31', 'B28',\n",
       "       'B76', 'B45', 'B32', 'B36', 'B35', 'B38', 'B43', 'B4 ', 'B34',\n",
       "       'B92'], dtype=object)"
      ]
     },
     "execution_count": 22,
     "metadata": {},
     "output_type": "execute_result"
    }
   ],
   "source": [
    "df['Zone'].unique()"
   ]
  },
  {
   "cell_type": "code",
   "execution_count": 23,
   "id": "552378a3",
   "metadata": {},
   "outputs": [],
   "source": [
    "df['Hygiene']=df['Hygiene'].astype('int64')\n",
    "df['Structural']=df['Structural'].astype('int64')\n",
    "df['ConfidenceInManagement']=df['ConfidenceInManagement'].astype('int64')\n",
    "df['Score']=df['Hygiene']+df['Structural']+df['ConfidenceInManagement']"
   ]
  },
  {
   "cell_type": "code",
   "execution_count": 24,
   "id": "a5832d09",
   "metadata": {},
   "outputs": [
    {
     "data": {
      "text/plain": [
       "<AxesSubplot:xlabel='Zone'>"
      ]
     },
     "execution_count": 24,
     "metadata": {},
     "output_type": "execute_result"
    },
    {
     "data": {
      "image/png": "[encoded data removed]",
      "text/plain": [
       "<Figure size 1368x1224 with 1 Axes>"
      ]
     },
     "metadata": {
      "needs_background": "light"
     },
     "output_type": "display_data"
    }
   ],
   "source": [
    "df.groupby('Zone')['Score'].agg('mean').sort_values(ascending=False).plot(kind='bar', figsize=(19,17))"
   ]
  },
  {
   "cell_type": "code",
   "execution_count": 25,
   "id": "08fdc2ae",
   "metadata": {},
   "outputs": [
    {
     "data": {
      "text/plain": [
       "Zone\n",
       "B12    23.484043\n",
       "B19    22.662338\n",
       "B11    22.107623\n",
       "B21    21.289474\n",
       "B18    20.529801\n",
       "B8     19.413146\n",
       "B10    19.178082\n",
       "B9     18.125000\n",
       "B5     17.930464\n",
       "B6     17.481752\n",
       "B28    16.636364\n",
       "B13    16.508876\n",
       "B45    16.363636\n",
       "B32    16.050420\n",
       "B3     16.020408\n",
       "B20    15.801527\n",
       "B14    15.756881\n",
       "B29    15.673077\n",
       "B16    15.619048\n",
       "B23    15.320000\n",
       "B92    15.000000\n",
       "B36    14.761905\n",
       "B38    14.672131\n",
       "B30    14.587912\n",
       "B31    14.583333\n",
       "B2     14.487179\n",
       "B7     14.252336\n",
       "B25    14.117647\n",
       "B4     13.989899\n",
       "B17    13.740157\n",
       "B27    13.625954\n",
       "B33    13.622047\n",
       "B43    13.571429\n",
       "B1     13.271605\n",
       "B24    12.884615\n",
       "B44    12.754491\n",
       "B15    11.734694\n",
       "B26    11.474820\n",
       "B73    10.974576\n",
       "B74    10.942029\n",
       "B42    10.887097\n",
       "B75    10.617284\n",
       "B34    10.500000\n",
       "B76     9.482759\n",
       "B72     9.237288\n",
       "B35     8.500000\n",
       "Name: Score, dtype: float64"
      ]
     },
     "execution_count": 25,
     "metadata": {},
     "output_type": "execute_result"
    }
   ],
   "source": [
    "df.groupby('Zone')['Score'].agg('mean').sort_values(ascending=False)"
   ]
  },
  {
   "cell_type": "code",
   "execution_count": 26,
   "id": "a143ce55",
   "metadata": {},
   "outputs": [
    {
     "data": {
      "text/plain": [
       "<AxesSubplot:xlabel='Zone'>"
      ]
     },
     "execution_count": 26,
     "metadata": {},
     "output_type": "execute_result"
    },
    {
     "data": {
      "image/png": "[encoded data removed]",
      "text/plain": [
       "<Figure size 1368x1224 with 1 Axes>"
      ]
     },
     "metadata": {
      "needs_background": "light"
     },
     "output_type": "display_data"
    }
   ],
   "source": [
    "df.groupby('Zone')['Hygiene'].agg('mean').sort_values(ascending=False).plot(kind='bar', figsize=(19,17))"
   ]
  },
  {
   "cell_type": "markdown",
   "id": "52e37521",
   "metadata": {},
   "source": [
    "### Geographical count dustribution of the permises "
   ]
  },
  {
   "cell_type": "code",
   "execution_count": 23,
   "id": "1e35e469",
   "metadata": {},
   "outputs": [
    {
     "data": {
      "text/plain": [
       "<AxesSubplot:xlabel='Zone'>"
      ]
     },
     "execution_count": 23,
     "metadata": {},
     "output_type": "execute_result"
    },
    {
     "data": {
      "image/png": "[encoded data removed]",
      "text/plain": [
       "<Figure size 1296x864 with 1 Axes>"
      ]
     },
     "metadata": {
      "needs_background": "light"
     },
     "output_type": "display_data"
    }
   ],
   "source": [
    "df.groupby('Zone')['Hygiene'].agg('count').sort_values(ascending=False).plot(kind='bar', figsize=(18,12))"
   ]
  },
  {
   "cell_type": "markdown",
   "id": "7bdfc4f0",
   "metadata": {},
   "source": [
    "The figure shows that the area B5 contains the highest number of permises with just over 300, making it busier than B23. B92 was last on the list with only one permise. "
   ]
  },
  {
   "cell_type": "code",
   "execution_count": 24,
   "id": "e3d6c48b",
   "metadata": {},
   "outputs": [
    {
     "data": {
      "text/plain": [
       "8899    0\n",
       "Name: Hygiene, dtype: int64"
      ]
     },
     "execution_count": 24,
     "metadata": {},
     "output_type": "execute_result"
    }
   ],
   "source": [
    "df[df['Zone']=='B92']['Hygiene']"
   ]
  },
  {
   "cell_type": "code",
   "execution_count": 25,
   "id": "24c7d851",
   "metadata": {},
   "outputs": [
    {
     "data": {
      "text/plain": [
       "(6088, 9)"
      ]
     },
     "execution_count": 25,
     "metadata": {},
     "output_type": "execute_result"
    }
   ],
   "source": [
    "df.shape"
   ]
  },
  {
   "cell_type": "markdown",
   "id": "aa2ae5e8",
   "metadata": {},
   "source": [
    "### BusinessType"
   ]
  },
  {
   "cell_type": "code",
   "execution_count": 26,
   "id": "7773b3bc",
   "metadata": {},
   "outputs": [
    {
     "data": {
      "text/plain": [
       "<AxesSubplot:xlabel='BusinessType'>"
      ]
     },
     "execution_count": 26,
     "metadata": {},
     "output_type": "execute_result"
    },
    {
     "data": {
      "image/png": "[encoded data removed]",
      "text/plain": [
       "<Figure size 432x288 with 1 Axes>"
      ]
     },
     "metadata": {
      "needs_background": "light"
     },
     "output_type": "display_data"
    }
   ],
   "source": [
    "df.groupby('BusinessType')['Hygiene'].agg('count').sort_values(ascending=False).plot(kind='bar')"
   ]
  },
  {
   "cell_type": "code",
   "execution_count": 27,
   "id": "d37239b7",
   "metadata": {},
   "outputs": [
    {
     "name": "stderr",
     "output_type": "stream",
     "text": [
      "<ipython-input-27-735cd5d00f8d>:1: FutureWarning: Indexing with multiple keys (implicitly converted to a tuple of keys) will be deprecated, use a list instead.\n",
      "  df.groupby('BusinessType')['Hygiene', 'Structural','ConfidenceInManagement'].agg('mean').sort_values(by='Hygiene',ascending=False).plot(kind='bar', stacked=True)\n"
     ]
    },
    {
     "data": {
      "text/plain": [
       "<AxesSubplot:xlabel='BusinessType'>"
      ]
     },
     "execution_count": 27,
     "metadata": {},
     "output_type": "execute_result"
    },
    {
     "data": {
      "image/png": "[encoded data removed]",
      "text/plain": [
       "<Figure size 432x288 with 1 Axes>"
      ]
     },
     "metadata": {
      "needs_background": "light"
     },
     "output_type": "display_data"
    }
   ],
   "source": [
    "df.groupby('BusinessType')['Hygiene', 'Structural','ConfidenceInManagement'].agg('mean').sort_values(by='Hygiene',ascending=False).plot(kind='bar', stacked=True)"
   ]
  },
  {
   "cell_type": "code",
   "execution_count": 71,
   "id": "55c6456a",
   "metadata": {},
   "outputs": [
    {
     "data": {
      "text/plain": [
       "BusinessType\n",
       "Takeaway/sandwich shop                   7.415094\n",
       "Restaurant/Cafe/Canteen                  5.431159\n",
       "Retailers - other                        4.352941\n",
       "Other catering premises                  4.222011\n",
       "Pub/bar/nightclub                        4.220624\n",
       "Hotel/bed & breakfast/guest house        4.080460\n",
       "Importers/Exporters                      4.000000\n",
       "Mobile caterer                           3.947368\n",
       "Hospitals/Childcare/Caring Premises      3.338008\n",
       "Manufacturers/packers                    3.333333\n",
       "Retailers - supermarkets/hypermarkets    3.333333\n",
       "School/college/university                2.807425\n",
       "Distributors/Transporters                2.333333\n",
       "Name: Hygiene, dtype: float64"
      ]
     },
     "execution_count": 71,
     "metadata": {},
     "output_type": "execute_result"
    }
   ],
   "source": [
    "df.groupby('BusinessType')['Hygiene'].agg('mean').sort_values(ascending=False)"
   ]
  },
  {
   "cell_type": "markdown",
   "id": "f991c835",
   "metadata": {},
   "source": [
    "Takeaway/sandwich shops are the most hygienic permises with an average hygiene score of about 7.5, heading Restaurant/Cafe/Canteen with 5.43.\n",
    "\n",
    "Distributors/Transporters came last on the list with 2.33, just after School/college/university."
   ]
  },
  {
   "cell_type": "markdown",
   "id": "d5284d39",
   "metadata": {},
   "source": [
    "### The most hygienic store across business types"
   ]
  },
  {
   "cell_type": "code",
   "execution_count": 29,
   "id": "3b54b144",
   "metadata": {},
   "outputs": [
    {
     "data": {
      "text/html": [
       "<div>\n",
       "<style scoped>\n",
       "    .dataframe tbody tr th:only-of-type {\n",
       "        vertical-align: middle;\n",
       "    }\n",
       "\n",
       "    .dataframe tbody tr th {\n",
       "        vertical-align: top;\n",
       "    }\n",
       "\n",
       "    .dataframe thead th {\n",
       "        text-align: right;\n",
       "    }\n",
       "</style>\n",
       "<table border=\"1\" class=\"dataframe\">\n",
       "  <thead>\n",
       "    <tr style=\"text-align: right;\">\n",
       "      <th></th>\n",
       "      <th>index</th>\n",
       "      <th>BusinessType</th>\n",
       "      <th>BusinessName</th>\n",
       "      <th>LocalAuthorityName</th>\n",
       "      <th>PostCode</th>\n",
       "      <th>Hygiene</th>\n",
       "      <th>Structural</th>\n",
       "      <th>ConfidenceInManagement</th>\n",
       "      <th>Zone</th>\n",
       "      <th>Score</th>\n",
       "    </tr>\n",
       "  </thead>\n",
       "  <tbody>\n",
       "    <tr>\n",
       "      <th>0</th>\n",
       "      <td>9686</td>\n",
       "      <td>Retailers - other</td>\n",
       "      <td>Zinda Bazaar</td>\n",
       "      <td>Birmingham</td>\n",
       "      <td>B6 5HA</td>\n",
       "      <td>25</td>\n",
       "      <td>25</td>\n",
       "      <td>30</td>\n",
       "      <td>B6</td>\n",
       "      <td>80</td>\n",
       "    </tr>\n",
       "    <tr>\n",
       "      <th>1</th>\n",
       "      <td>1952</td>\n",
       "      <td>Takeaway/sandwich shop</td>\n",
       "      <td>Classic Fish Bar</td>\n",
       "      <td>Birmingham</td>\n",
       "      <td>B6 6NT</td>\n",
       "      <td>25</td>\n",
       "      <td>25</td>\n",
       "      <td>30</td>\n",
       "      <td>B6</td>\n",
       "      <td>80</td>\n",
       "    </tr>\n",
       "    <tr>\n",
       "      <th>2</th>\n",
       "      <td>157</td>\n",
       "      <td>Other catering premises</td>\n",
       "      <td>African Legacy</td>\n",
       "      <td>Birmingham</td>\n",
       "      <td>B5 4RQ</td>\n",
       "      <td>25</td>\n",
       "      <td>25</td>\n",
       "      <td>30</td>\n",
       "      <td>B5</td>\n",
       "      <td>80</td>\n",
       "    </tr>\n",
       "    <tr>\n",
       "      <th>3</th>\n",
       "      <td>1754</td>\n",
       "      <td>Restaurant/Cafe/Canteen</td>\n",
       "      <td>Chaska and Chaii</td>\n",
       "      <td>Birmingham</td>\n",
       "      <td>B12 8JA</td>\n",
       "      <td>25</td>\n",
       "      <td>25</td>\n",
       "      <td>30</td>\n",
       "      <td>B12</td>\n",
       "      <td>80</td>\n",
       "    </tr>\n",
       "    <tr>\n",
       "      <th>4</th>\n",
       "      <td>1320</td>\n",
       "      <td>Retailers - supermarkets/hypermarkets</td>\n",
       "      <td>Bucuresti Magazine</td>\n",
       "      <td>Birmingham</td>\n",
       "      <td>B8 2HJ</td>\n",
       "      <td>20</td>\n",
       "      <td>20</td>\n",
       "      <td>30</td>\n",
       "      <td>B8</td>\n",
       "      <td>70</td>\n",
       "    </tr>\n",
       "    <tr>\n",
       "      <th>5</th>\n",
       "      <td>8841</td>\n",
       "      <td>Pub/bar/nightclub</td>\n",
       "      <td>The Wellington</td>\n",
       "      <td>Birmingham</td>\n",
       "      <td>B2 5SN</td>\n",
       "      <td>20</td>\n",
       "      <td>20</td>\n",
       "      <td>20</td>\n",
       "      <td>B2</td>\n",
       "      <td>60</td>\n",
       "    </tr>\n",
       "    <tr>\n",
       "      <th>6</th>\n",
       "      <td>9056</td>\n",
       "      <td>Hotel/bed &amp; breakfast/guest house</td>\n",
       "      <td>Twist</td>\n",
       "      <td>Birmingham</td>\n",
       "      <td>B2 4BG</td>\n",
       "      <td>20</td>\n",
       "      <td>25</td>\n",
       "      <td>10</td>\n",
       "      <td>B2</td>\n",
       "      <td>55</td>\n",
       "    </tr>\n",
       "    <tr>\n",
       "      <th>7</th>\n",
       "      <td>7723</td>\n",
       "      <td>School/college/university</td>\n",
       "      <td>St. Edmund Campion Rc School</td>\n",
       "      <td>Birmingham</td>\n",
       "      <td>B23 5XA</td>\n",
       "      <td>15</td>\n",
       "      <td>15</td>\n",
       "      <td>20</td>\n",
       "      <td>B23</td>\n",
       "      <td>50</td>\n",
       "    </tr>\n",
       "    <tr>\n",
       "      <th>8</th>\n",
       "      <td>8936</td>\n",
       "      <td>Mobile caterer</td>\n",
       "      <td>Top Fried Chicken</td>\n",
       "      <td>Birmingham</td>\n",
       "      <td>B8 3DH</td>\n",
       "      <td>15</td>\n",
       "      <td>15</td>\n",
       "      <td>20</td>\n",
       "      <td>B8</td>\n",
       "      <td>50</td>\n",
       "    </tr>\n",
       "    <tr>\n",
       "      <th>9</th>\n",
       "      <td>5581</td>\n",
       "      <td>Manufacturers/packers</td>\n",
       "      <td>Mushtaq Sweet Centre</td>\n",
       "      <td>Birmingham</td>\n",
       "      <td>B11 4LD</td>\n",
       "      <td>10</td>\n",
       "      <td>15</td>\n",
       "      <td>20</td>\n",
       "      <td>B11</td>\n",
       "      <td>45</td>\n",
       "    </tr>\n",
       "    <tr>\n",
       "      <th>10</th>\n",
       "      <td>9074</td>\n",
       "      <td>Hospitals/Childcare/Caring Premises</td>\n",
       "      <td>Uk Asian Womens Centre</td>\n",
       "      <td>Birmingham</td>\n",
       "      <td>B19 1BX</td>\n",
       "      <td>10</td>\n",
       "      <td>15</td>\n",
       "      <td>20</td>\n",
       "      <td>B19</td>\n",
       "      <td>45</td>\n",
       "    </tr>\n",
       "    <tr>\n",
       "      <th>11</th>\n",
       "      <td>7456</td>\n",
       "      <td>Distributors/Transporters</td>\n",
       "      <td>Snack Attack UK</td>\n",
       "      <td>Birmingham</td>\n",
       "      <td>B11 2AL</td>\n",
       "      <td>0</td>\n",
       "      <td>20</td>\n",
       "      <td>20</td>\n",
       "      <td>B11</td>\n",
       "      <td>40</td>\n",
       "    </tr>\n",
       "    <tr>\n",
       "      <th>12</th>\n",
       "      <td>6999</td>\n",
       "      <td>Importers/Exporters</td>\n",
       "      <td>Samis Wholesale Cash and Carry</td>\n",
       "      <td>Birmingham</td>\n",
       "      <td>B19 3SU</td>\n",
       "      <td>10</td>\n",
       "      <td>15</td>\n",
       "      <td>10</td>\n",
       "      <td>B19</td>\n",
       "      <td>35</td>\n",
       "    </tr>\n",
       "  </tbody>\n",
       "</table>\n",
       "</div>"
      ],
      "text/plain": [
       "    index                           BusinessType  \\\n",
       "0    9686                      Retailers - other   \n",
       "1    1952                 Takeaway/sandwich shop   \n",
       "2     157                Other catering premises   \n",
       "3    1754                Restaurant/Cafe/Canteen   \n",
       "4    1320  Retailers - supermarkets/hypermarkets   \n",
       "5    8841                      Pub/bar/nightclub   \n",
       "6    9056      Hotel/bed & breakfast/guest house   \n",
       "7    7723              School/college/university   \n",
       "8    8936                         Mobile caterer   \n",
       "9    5581                  Manufacturers/packers   \n",
       "10   9074    Hospitals/Childcare/Caring Premises   \n",
       "11   7456              Distributors/Transporters   \n",
       "12   6999                    Importers/Exporters   \n",
       "\n",
       "                      BusinessName LocalAuthorityName PostCode  Hygiene  \\\n",
       "0                     Zinda Bazaar         Birmingham   B6 5HA       25   \n",
       "1                 Classic Fish Bar         Birmingham   B6 6NT       25   \n",
       "2                   African Legacy         Birmingham   B5 4RQ       25   \n",
       "3                 Chaska and Chaii         Birmingham  B12 8JA       25   \n",
       "4               Bucuresti Magazine         Birmingham   B8 2HJ       20   \n",
       "5                   The Wellington         Birmingham   B2 5SN       20   \n",
       "6                            Twist         Birmingham   B2 4BG       20   \n",
       "7     St. Edmund Campion Rc School         Birmingham  B23 5XA       15   \n",
       "8                Top Fried Chicken         Birmingham   B8 3DH       15   \n",
       "9             Mushtaq Sweet Centre         Birmingham  B11 4LD       10   \n",
       "10          Uk Asian Womens Centre         Birmingham  B19 1BX       10   \n",
       "11                 Snack Attack UK         Birmingham  B11 2AL        0   \n",
       "12  Samis Wholesale Cash and Carry         Birmingham  B19 3SU       10   \n",
       "\n",
       "    Structural  ConfidenceInManagement Zone  Score  \n",
       "0           25                      30  B6      80  \n",
       "1           25                      30  B6      80  \n",
       "2           25                      30  B5      80  \n",
       "3           25                      30  B12     80  \n",
       "4           20                      30  B8      70  \n",
       "5           20                      20  B2      60  \n",
       "6           25                      10  B2      55  \n",
       "7           15                      20  B23     50  \n",
       "8           15                      20  B8      50  \n",
       "9           15                      20  B11     45  \n",
       "10          15                      20  B19     45  \n",
       "11          20                      20  B11     40  \n",
       "12          15                      10  B19     35  "
      ]
     },
     "execution_count": 29,
     "metadata": {},
     "output_type": "execute_result"
    }
   ],
   "source": [
    "# Method 1\n",
    "df.sort_values('Score', ascending=False).drop_duplicates(['BusinessType']).reset_index()\n"
   ]
  },
  {
   "cell_type": "code",
   "execution_count": 30,
   "id": "a47b7932",
   "metadata": {},
   "outputs": [
    {
     "data": {
      "text/html": [
       "<div>\n",
       "<style scoped>\n",
       "    .dataframe tbody tr th:only-of-type {\n",
       "        vertical-align: middle;\n",
       "    }\n",
       "\n",
       "    .dataframe tbody tr th {\n",
       "        vertical-align: top;\n",
       "    }\n",
       "\n",
       "    .dataframe thead th {\n",
       "        text-align: right;\n",
       "    }\n",
       "</style>\n",
       "<table border=\"1\" class=\"dataframe\">\n",
       "  <thead>\n",
       "    <tr style=\"text-align: right;\">\n",
       "      <th></th>\n",
       "      <th>BusinessType</th>\n",
       "      <th>BusinessName</th>\n",
       "      <th>LocalAuthorityName</th>\n",
       "      <th>PostCode</th>\n",
       "      <th>Hygiene</th>\n",
       "      <th>Structural</th>\n",
       "      <th>ConfidenceInManagement</th>\n",
       "      <th>Zone</th>\n",
       "      <th>Score</th>\n",
       "    </tr>\n",
       "  </thead>\n",
       "  <tbody>\n",
       "    <tr>\n",
       "      <th>7456</th>\n",
       "      <td>Distributors/Transporters</td>\n",
       "      <td>Snack Attack UK</td>\n",
       "      <td>Birmingham</td>\n",
       "      <td>B11 2AL</td>\n",
       "      <td>0</td>\n",
       "      <td>20</td>\n",
       "      <td>20</td>\n",
       "      <td>B11</td>\n",
       "      <td>40</td>\n",
       "    </tr>\n",
       "    <tr>\n",
       "      <th>9074</th>\n",
       "      <td>Hospitals/Childcare/Caring Premises</td>\n",
       "      <td>Uk Asian Womens Centre</td>\n",
       "      <td>Birmingham</td>\n",
       "      <td>B19 1BX</td>\n",
       "      <td>10</td>\n",
       "      <td>15</td>\n",
       "      <td>20</td>\n",
       "      <td>B19</td>\n",
       "      <td>45</td>\n",
       "    </tr>\n",
       "    <tr>\n",
       "      <th>9056</th>\n",
       "      <td>Hotel/bed &amp; breakfast/guest house</td>\n",
       "      <td>Twist</td>\n",
       "      <td>Birmingham</td>\n",
       "      <td>B2 4BG</td>\n",
       "      <td>20</td>\n",
       "      <td>25</td>\n",
       "      <td>10</td>\n",
       "      <td>B2</td>\n",
       "      <td>55</td>\n",
       "    </tr>\n",
       "    <tr>\n",
       "      <th>6999</th>\n",
       "      <td>Importers/Exporters</td>\n",
       "      <td>Samis Wholesale Cash and Carry</td>\n",
       "      <td>Birmingham</td>\n",
       "      <td>B19 3SU</td>\n",
       "      <td>10</td>\n",
       "      <td>15</td>\n",
       "      <td>10</td>\n",
       "      <td>B19</td>\n",
       "      <td>35</td>\n",
       "    </tr>\n",
       "    <tr>\n",
       "      <th>5581</th>\n",
       "      <td>Manufacturers/packers</td>\n",
       "      <td>Mushtaq Sweet Centre</td>\n",
       "      <td>Birmingham</td>\n",
       "      <td>B11 4LD</td>\n",
       "      <td>10</td>\n",
       "      <td>15</td>\n",
       "      <td>20</td>\n",
       "      <td>B11</td>\n",
       "      <td>45</td>\n",
       "    </tr>\n",
       "    <tr>\n",
       "      <th>8936</th>\n",
       "      <td>Mobile caterer</td>\n",
       "      <td>Top Fried Chicken</td>\n",
       "      <td>Birmingham</td>\n",
       "      <td>B8 3DH</td>\n",
       "      <td>15</td>\n",
       "      <td>15</td>\n",
       "      <td>20</td>\n",
       "      <td>B8</td>\n",
       "      <td>50</td>\n",
       "    </tr>\n",
       "    <tr>\n",
       "      <th>157</th>\n",
       "      <td>Other catering premises</td>\n",
       "      <td>African Legacy</td>\n",
       "      <td>Birmingham</td>\n",
       "      <td>B5 4RQ</td>\n",
       "      <td>25</td>\n",
       "      <td>25</td>\n",
       "      <td>30</td>\n",
       "      <td>B5</td>\n",
       "      <td>80</td>\n",
       "    </tr>\n",
       "    <tr>\n",
       "      <th>8841</th>\n",
       "      <td>Pub/bar/nightclub</td>\n",
       "      <td>The Wellington</td>\n",
       "      <td>Birmingham</td>\n",
       "      <td>B2 5SN</td>\n",
       "      <td>20</td>\n",
       "      <td>20</td>\n",
       "      <td>20</td>\n",
       "      <td>B2</td>\n",
       "      <td>60</td>\n",
       "    </tr>\n",
       "    <tr>\n",
       "      <th>1754</th>\n",
       "      <td>Restaurant/Cafe/Canteen</td>\n",
       "      <td>Chaska and Chaii</td>\n",
       "      <td>Birmingham</td>\n",
       "      <td>B12 8JA</td>\n",
       "      <td>25</td>\n",
       "      <td>25</td>\n",
       "      <td>30</td>\n",
       "      <td>B12</td>\n",
       "      <td>80</td>\n",
       "    </tr>\n",
       "    <tr>\n",
       "      <th>9686</th>\n",
       "      <td>Retailers - other</td>\n",
       "      <td>Zinda Bazaar</td>\n",
       "      <td>Birmingham</td>\n",
       "      <td>B6 5HA</td>\n",
       "      <td>25</td>\n",
       "      <td>25</td>\n",
       "      <td>30</td>\n",
       "      <td>B6</td>\n",
       "      <td>80</td>\n",
       "    </tr>\n",
       "    <tr>\n",
       "      <th>1320</th>\n",
       "      <td>Retailers - supermarkets/hypermarkets</td>\n",
       "      <td>Bucuresti Magazine</td>\n",
       "      <td>Birmingham</td>\n",
       "      <td>B8 2HJ</td>\n",
       "      <td>20</td>\n",
       "      <td>20</td>\n",
       "      <td>30</td>\n",
       "      <td>B8</td>\n",
       "      <td>70</td>\n",
       "    </tr>\n",
       "    <tr>\n",
       "      <th>7723</th>\n",
       "      <td>School/college/university</td>\n",
       "      <td>St. Edmund Campion Rc School</td>\n",
       "      <td>Birmingham</td>\n",
       "      <td>B23 5XA</td>\n",
       "      <td>15</td>\n",
       "      <td>15</td>\n",
       "      <td>20</td>\n",
       "      <td>B23</td>\n",
       "      <td>50</td>\n",
       "    </tr>\n",
       "    <tr>\n",
       "      <th>1952</th>\n",
       "      <td>Takeaway/sandwich shop</td>\n",
       "      <td>Classic Fish Bar</td>\n",
       "      <td>Birmingham</td>\n",
       "      <td>B6 6NT</td>\n",
       "      <td>25</td>\n",
       "      <td>25</td>\n",
       "      <td>30</td>\n",
       "      <td>B6</td>\n",
       "      <td>80</td>\n",
       "    </tr>\n",
       "  </tbody>\n",
       "</table>\n",
       "</div>"
      ],
      "text/plain": [
       "                               BusinessType                    BusinessName  \\\n",
       "7456              Distributors/Transporters                 Snack Attack UK   \n",
       "9074    Hospitals/Childcare/Caring Premises          Uk Asian Womens Centre   \n",
       "9056      Hotel/bed & breakfast/guest house                           Twist   \n",
       "6999                    Importers/Exporters  Samis Wholesale Cash and Carry   \n",
       "5581                  Manufacturers/packers            Mushtaq Sweet Centre   \n",
       "8936                         Mobile caterer               Top Fried Chicken   \n",
       "157                 Other catering premises                  African Legacy   \n",
       "8841                      Pub/bar/nightclub                  The Wellington   \n",
       "1754                Restaurant/Cafe/Canteen                Chaska and Chaii   \n",
       "9686                      Retailers - other                    Zinda Bazaar   \n",
       "1320  Retailers - supermarkets/hypermarkets              Bucuresti Magazine   \n",
       "7723              School/college/university    St. Edmund Campion Rc School   \n",
       "1952                 Takeaway/sandwich shop                Classic Fish Bar   \n",
       "\n",
       "     LocalAuthorityName PostCode  Hygiene  Structural  ConfidenceInManagement  \\\n",
       "7456         Birmingham  B11 2AL        0          20                      20   \n",
       "9074         Birmingham  B19 1BX       10          15                      20   \n",
       "9056         Birmingham   B2 4BG       20          25                      10   \n",
       "6999         Birmingham  B19 3SU       10          15                      10   \n",
       "5581         Birmingham  B11 4LD       10          15                      20   \n",
       "8936         Birmingham   B8 3DH       15          15                      20   \n",
       "157          Birmingham   B5 4RQ       25          25                      30   \n",
       "8841         Birmingham   B2 5SN       20          20                      20   \n",
       "1754         Birmingham  B12 8JA       25          25                      30   \n",
       "9686         Birmingham   B6 5HA       25          25                      30   \n",
       "1320         Birmingham   B8 2HJ       20          20                      30   \n",
       "7723         Birmingham  B23 5XA       15          15                      20   \n",
       "1952         Birmingham   B6 6NT       25          25                      30   \n",
       "\n",
       "     Zone  Score  \n",
       "7456  B11     40  \n",
       "9074  B19     45  \n",
       "9056  B2      55  \n",
       "6999  B19     35  \n",
       "5581  B11     45  \n",
       "8936  B8      50  \n",
       "157   B5      80  \n",
       "8841  B2      60  \n",
       "1754  B12     80  \n",
       "9686  B6      80  \n",
       "1320  B8      70  \n",
       "7723  B23     50  \n",
       "1952  B6      80  "
      ]
     },
     "execution_count": 30,
     "metadata": {},
     "output_type": "execute_result"
    }
   ],
   "source": [
    "# Method 2\n",
    "grouped=df.groupby('BusinessType')['Score']\n",
    "df.loc[grouped.idxmax()]"
   ]
  },
  {
   "cell_type": "markdown",
   "id": "3d93304e",
   "metadata": {},
   "source": [
    "#### Drawebacks: \n",
    "\n",
    "The methods used above take only the first row with the highest score value, but this would miss permises having the same highest score. To solve this problem, we find the maximum score for each business type and then filter the rows by the maximum score. "
   ]
  },
  {
   "cell_type": "code",
   "execution_count": null,
   "id": "ccd0558a",
   "metadata": {},
   "outputs": [],
   "source": []
  },
  {
   "cell_type": "code",
   "execution_count": 31,
   "id": "ed4b3d1d",
   "metadata": {},
   "outputs": [],
   "source": [
    "df_maxi=pd.DataFrame([])\n",
    "maxi=df.groupby('BusinessType')['Score'].max()\n",
    "for (u, v) in zip(maxi.index, maxi.values):\n",
    "    temp=df[(df['BusinessType']==u)&(df['Score']==v)]\n",
    "    df_maxi=pd.concat([df_maxi,temp])"
   ]
  },
  {
   "cell_type": "code",
   "execution_count": 33,
   "id": "4497c52e",
   "metadata": {},
   "outputs": [
    {
     "data": {
      "text/html": [
       "<div>\n",
       "<style scoped>\n",
       "    .dataframe tbody tr th:only-of-type {\n",
       "        vertical-align: middle;\n",
       "    }\n",
       "\n",
       "    .dataframe tbody tr th {\n",
       "        vertical-align: top;\n",
       "    }\n",
       "\n",
       "    .dataframe thead th {\n",
       "        text-align: right;\n",
       "    }\n",
       "</style>\n",
       "<table border=\"1\" class=\"dataframe\">\n",
       "  <thead>\n",
       "    <tr style=\"text-align: right;\">\n",
       "      <th></th>\n",
       "      <th>BusinessType</th>\n",
       "      <th>BusinessName</th>\n",
       "      <th>Score</th>\n",
       "    </tr>\n",
       "  </thead>\n",
       "  <tbody>\n",
       "    <tr>\n",
       "      <th>7456</th>\n",
       "      <td>Distributors/Transporters</td>\n",
       "      <td>Snack Attack UK</td>\n",
       "      <td>40</td>\n",
       "    </tr>\n",
       "    <tr>\n",
       "      <th>9074</th>\n",
       "      <td>Hospitals/Childcare/Caring Premises</td>\n",
       "      <td>Uk Asian Womens Centre</td>\n",
       "      <td>45</td>\n",
       "    </tr>\n",
       "    <tr>\n",
       "      <th>9056</th>\n",
       "      <td>Hotel/bed &amp; breakfast/guest house</td>\n",
       "      <td>Twist</td>\n",
       "      <td>55</td>\n",
       "    </tr>\n",
       "    <tr>\n",
       "      <th>6999</th>\n",
       "      <td>Importers/Exporters</td>\n",
       "      <td>Samis Wholesale Cash and Carry</td>\n",
       "      <td>35</td>\n",
       "    </tr>\n",
       "    <tr>\n",
       "      <th>5581</th>\n",
       "      <td>Manufacturers/packers</td>\n",
       "      <td>Mushtaq Sweet Centre</td>\n",
       "      <td>45</td>\n",
       "    </tr>\n",
       "    <tr>\n",
       "      <th>8936</th>\n",
       "      <td>Mobile caterer</td>\n",
       "      <td>Top Fried Chicken</td>\n",
       "      <td>50</td>\n",
       "    </tr>\n",
       "    <tr>\n",
       "      <th>157</th>\n",
       "      <td>Other catering premises</td>\n",
       "      <td>African Legacy</td>\n",
       "      <td>80</td>\n",
       "    </tr>\n",
       "    <tr>\n",
       "      <th>8841</th>\n",
       "      <td>Pub/bar/nightclub</td>\n",
       "      <td>The Wellington</td>\n",
       "      <td>60</td>\n",
       "    </tr>\n",
       "    <tr>\n",
       "      <th>1754</th>\n",
       "      <td>Restaurant/Cafe/Canteen</td>\n",
       "      <td>Chaska and Chaii</td>\n",
       "      <td>80</td>\n",
       "    </tr>\n",
       "    <tr>\n",
       "      <th>8499</th>\n",
       "      <td>Restaurant/Cafe/Canteen</td>\n",
       "      <td>The Grain Bakery</td>\n",
       "      <td>80</td>\n",
       "    </tr>\n",
       "    <tr>\n",
       "      <th>8850</th>\n",
       "      <td>Restaurant/Cafe/Canteen</td>\n",
       "      <td>The Woodhouse Cafe</td>\n",
       "      <td>80</td>\n",
       "    </tr>\n",
       "    <tr>\n",
       "      <th>9686</th>\n",
       "      <td>Retailers - other</td>\n",
       "      <td>Zinda Bazaar</td>\n",
       "      <td>80</td>\n",
       "    </tr>\n",
       "    <tr>\n",
       "      <th>1320</th>\n",
       "      <td>Retailers - supermarkets/hypermarkets</td>\n",
       "      <td>Bucuresti Magazine</td>\n",
       "      <td>70</td>\n",
       "    </tr>\n",
       "    <tr>\n",
       "      <th>7723</th>\n",
       "      <td>School/college/university</td>\n",
       "      <td>St. Edmund Campion Rc School</td>\n",
       "      <td>50</td>\n",
       "    </tr>\n",
       "    <tr>\n",
       "      <th>1952</th>\n",
       "      <td>Takeaway/sandwich shop</td>\n",
       "      <td>Classic Fish Bar</td>\n",
       "      <td>80</td>\n",
       "    </tr>\n",
       "    <tr>\n",
       "      <th>9344</th>\n",
       "      <td>Takeaway/sandwich shop</td>\n",
       "      <td>Watan Afghan Street Food</td>\n",
       "      <td>80</td>\n",
       "    </tr>\n",
       "  </tbody>\n",
       "</table>\n",
       "</div>"
      ],
      "text/plain": [
       "                               BusinessType                    BusinessName  \\\n",
       "7456              Distributors/Transporters                 Snack Attack UK   \n",
       "9074    Hospitals/Childcare/Caring Premises          Uk Asian Womens Centre   \n",
       "9056      Hotel/bed & breakfast/guest house                           Twist   \n",
       "6999                    Importers/Exporters  Samis Wholesale Cash and Carry   \n",
       "5581                  Manufacturers/packers            Mushtaq Sweet Centre   \n",
       "8936                         Mobile caterer               Top Fried Chicken   \n",
       "157                 Other catering premises                  African Legacy   \n",
       "8841                      Pub/bar/nightclub                  The Wellington   \n",
       "1754                Restaurant/Cafe/Canteen                Chaska and Chaii   \n",
       "8499                Restaurant/Cafe/Canteen                The Grain Bakery   \n",
       "8850                Restaurant/Cafe/Canteen              The Woodhouse Cafe   \n",
       "9686                      Retailers - other                    Zinda Bazaar   \n",
       "1320  Retailers - supermarkets/hypermarkets              Bucuresti Magazine   \n",
       "7723              School/college/university    St. Edmund Campion Rc School   \n",
       "1952                 Takeaway/sandwich shop                Classic Fish Bar   \n",
       "9344                 Takeaway/sandwich shop        Watan Afghan Street Food   \n",
       "\n",
       "      Score  \n",
       "7456     40  \n",
       "9074     45  \n",
       "9056     55  \n",
       "6999     35  \n",
       "5581     45  \n",
       "8936     50  \n",
       "157      80  \n",
       "8841     60  \n",
       "1754     80  \n",
       "8499     80  \n",
       "8850     80  \n",
       "9686     80  \n",
       "1320     70  \n",
       "7723     50  \n",
       "1952     80  \n",
       "9344     80  "
      ]
     },
     "execution_count": 33,
     "metadata": {},
     "output_type": "execute_result"
    }
   ],
   "source": [
    "df_maxi[['BusinessType','BusinessName','Score']]"
   ]
  },
  {
   "cell_type": "markdown",
   "id": "f8cf9dcc",
   "metadata": {},
   "source": [
    "### Relation among component scores"
   ]
  },
  {
   "cell_type": "code",
   "execution_count": 38,
   "id": "dfb9fade",
   "metadata": {},
   "outputs": [
    {
     "data": {
      "text/plain": [
       "<AxesSubplot:xlabel='Hygiene', ylabel='Structural'>"
      ]
     },
     "execution_count": 38,
     "metadata": {},
     "output_type": "execute_result"
    },
    {
     "data": {
      "image/png": "[encoded data removed]",
      "text/plain": [
       "<Figure size 432x288 with 1 Axes>"
      ]
     },
     "metadata": {
      "needs_background": "light"
     },
     "output_type": "display_data"
    }
   ],
   "source": [
    "df.plot.scatter('Hygiene','Structural')"
   ]
  },
  {
   "cell_type": "code",
   "execution_count": 42,
   "id": "2eec670f",
   "metadata": {},
   "outputs": [
    {
     "name": "stdout",
     "output_type": "stream",
     "text": [
      "The correlation is 0.5584602421796518\n",
      "It is statistically significant.\n"
     ]
    }
   ],
   "source": [
    "from scipy.stats import spearmanr\n",
    "\n",
    "hygColumn = df['Hygiene']\n",
    "strucColumn = df['Structural']\n",
    "(correlation, pValue) = spearmanr(hygColumn, strucColumn)\n",
    "print('The correlation is', correlation)\n",
    "if pValue < 0.05:\n",
    "    print('It is statistically significant.')\n",
    "else:\n",
    "    print('It is not statistically significant.')"
   ]
  },
  {
   "cell_type": "markdown",
   "id": "9aeeba7b",
   "metadata": {},
   "source": [
    "The plot shows there is no clear correlation: there are low hygiene permises with high structural score, and permises with hygiene score less than 15 have almost the full range of the structural score values, from 0 to 25. Towards the  higher end of the Hygien score, the variation diminishes. Above the hygiene score of 15, permises have a structural value greater than 10. "
   ]
  },
  {
   "cell_type": "code",
   "execution_count": 39,
   "id": "9f53199e",
   "metadata": {},
   "outputs": [
    {
     "data": {
      "text/plain": [
       "<AxesSubplot:xlabel='ConfidenceInManagement', ylabel='Structural'>"
      ]
     },
     "execution_count": 39,
     "metadata": {},
     "output_type": "execute_result"
    },
    {
     "data": {
      "image/png": "[encoded data removed]",
      "text/plain": [
       "<Figure size 432x288 with 1 Axes>"
      ]
     },
     "metadata": {
      "needs_background": "light"
     },
     "output_type": "display_data"
    }
   ],
   "source": [
    "df.plot.scatter('ConfidenceInManagement','Structural')"
   ]
  },
  {
   "cell_type": "code",
   "execution_count": 43,
   "id": "d5ec5b23",
   "metadata": {},
   "outputs": [
    {
     "name": "stdout",
     "output_type": "stream",
     "text": [
      "The correlation is 0.535820984562232\n",
      "It is statistically significant.\n"
     ]
    }
   ],
   "source": [
    "from scipy.stats import spearmanr\n",
    "\n",
    "ConfColumn = df['ConfidenceInManagement']\n",
    "strucColumn = df['Structural']\n",
    "(correlation, pValue) = spearmanr(ConfColumn, strucColumn)\n",
    "print('The correlation is', correlation)\n",
    "if pValue < 0.05:\n",
    "    print('It is statistically significant.')\n",
    "else:\n",
    "    print('It is not statistically significant.')"
   ]
  },
  {
   "cell_type": "markdown",
   "id": "55a0cea2",
   "metadata": {},
   "source": [
    "The plot shows there is no clear correlation: Permises with a low  \n",
    "ConfidenceInManagement score tend to have a low Structural score. \n",
    "Permises with a ConfidenceInManagement score  equal to 10 and 20 have  the full range of structural values, from 0 to 25. \n",
    "No permises have score 15 or 25 in ConfidenceInManagement. For those permises having the maximum ConfidenceInManagement score, their structural score exceeds 10."
   ]
  },
  {
   "cell_type": "code",
   "execution_count": 41,
   "id": "08898ee7",
   "metadata": {},
   "outputs": [
    {
     "data": {
      "text/plain": [
       "<AxesSubplot:xlabel='Hygiene', ylabel='ConfidenceInManagement'>"
      ]
     },
     "execution_count": 41,
     "metadata": {},
     "output_type": "execute_result"
    },
    {
     "data": {
      "image/png": "[encoded data removed]",
      "text/plain": [
       "<Figure size 432x288 with 1 Axes>"
      ]
     },
     "metadata": {
      "needs_background": "light"
     },
     "output_type": "display_data"
    }
   ],
   "source": [
    "df.plot.scatter('Hygiene','ConfidenceInManagement')"
   ]
  },
  {
   "cell_type": "markdown",
   "id": "ccdb47dd",
   "metadata": {},
   "source": [
    "The plot shows there is no clear correlation: Permises with a Hygiene score less thyan 20 have the full range of ConfidenceInManagement values, from 0 to 30. \n",
    "For those permises having the maximum hygiene score, their ConfidenceInManagement score exceeds 10."
   ]
  },
  {
   "cell_type": "code",
   "execution_count": 44,
   "id": "6c1ac355",
   "metadata": {},
   "outputs": [
    {
     "name": "stdout",
     "output_type": "stream",
     "text": [
      "The correlation is 0.5793812153186827\n",
      "It is statistically significant.\n"
     ]
    }
   ],
   "source": [
    "from scipy.stats import spearmanr\n",
    "\n",
    "ConfColumn = df['ConfidenceInManagement']\n",
    "hygColumn = df['Hygiene']\n",
    "(correlation, pValue) = spearmanr(ConfColumn, hygColumn)\n",
    "print('The correlation is', correlation)\n",
    "if pValue < 0.05:\n",
    "    print('It is statistically significant.')\n",
    "else:\n",
    "    print('It is not statistically significant.')"
   ]
  },
  {
   "cell_type": "code",
   "execution_count": 67,
   "id": "f127d3dd",
   "metadata": {},
   "outputs": [
    {
     "data": {
      "text/plain": [
       "15    0.2226\n",
       "10    0.1562\n",
       "5     0.1393\n",
       "0     0.1344\n",
       "20    0.1293\n",
       "30    0.0711\n",
       "25    0.0506\n",
       "35    0.0333\n",
       "40    0.0197\n",
       "50    0.0172\n",
       "45    0.0138\n",
       "55    0.0062\n",
       "60    0.0028\n",
       "70    0.0015\n",
       "80    0.0011\n",
       "65    0.0005\n",
       "75    0.0003\n",
       "Name: Score, dtype: float64"
      ]
     },
     "execution_count": 67,
     "metadata": {},
     "output_type": "execute_result"
    }
   ],
   "source": [
    "(score_perc/score_perc.sum()).round(4)"
   ]
  },
  {
   "cell_type": "code",
   "execution_count": 68,
   "id": "28d0d114",
   "metadata": {},
   "outputs": [
    {
     "data": {
      "text/plain": [
       "<AxesSubplot:>"
      ]
     },
     "execution_count": 68,
     "metadata": {},
     "output_type": "execute_result"
    },
    {
     "data": {
      "image/png": "[encoded data removed]",
      "text/plain": [
       "<Figure size 1296x864 with 1 Axes>"
      ]
     },
     "metadata": {
      "needs_background": "light"
     },
     "output_type": "display_data"
    }
   ],
   "source": [
    "score_perc=df['Score'].value_counts()\n",
    "(score_perc/score_perc.sum()).round(2).plot(kind='bar', figsize=(18,12))"
   ]
  },
  {
   "cell_type": "markdown",
   "id": "2004b948",
   "metadata": {},
   "source": [
    "The overall score of 78% of the permises is less than 25 while about 1.25 % of the permises score over 50."
   ]
  },
  {
   "cell_type": "code",
   "execution_count": 28,
   "id": "b64fc5ae",
   "metadata": {},
   "outputs": [
    {
     "data": {
      "text/html": [
       "<div>\n",
       "<style scoped>\n",
       "    .dataframe tbody tr th:only-of-type {\n",
       "        vertical-align: middle;\n",
       "    }\n",
       "\n",
       "    .dataframe tbody tr th {\n",
       "        vertical-align: top;\n",
       "    }\n",
       "\n",
       "    .dataframe thead th {\n",
       "        text-align: right;\n",
       "    }\n",
       "</style>\n",
       "<table border=\"1\" class=\"dataframe\">\n",
       "  <thead>\n",
       "    <tr style=\"text-align: right;\">\n",
       "      <th></th>\n",
       "      <th>BusinessType</th>\n",
       "      <th>BusinessName</th>\n",
       "      <th>LocalAuthorityName</th>\n",
       "      <th>PostCode</th>\n",
       "      <th>Hygiene</th>\n",
       "      <th>Structural</th>\n",
       "      <th>ConfidenceInManagement</th>\n",
       "      <th>Zone</th>\n",
       "      <th>Score</th>\n",
       "    </tr>\n",
       "  </thead>\n",
       "  <tbody>\n",
       "    <tr>\n",
       "      <th>544</th>\n",
       "      <td>School/college/university</td>\n",
       "      <td>Aston University Engineering Academy</td>\n",
       "      <td>Birmingham</td>\n",
       "      <td>B7 4AG</td>\n",
       "      <td>0</td>\n",
       "      <td>15</td>\n",
       "      <td>0</td>\n",
       "      <td>B7</td>\n",
       "      <td>15</td>\n",
       "    </tr>\n",
       "    <tr>\n",
       "      <th>955</th>\n",
       "      <td>School/college/university</td>\n",
       "      <td>Birmingham City University</td>\n",
       "      <td>Birmingham</td>\n",
       "      <td>B15 3TN</td>\n",
       "      <td>5</td>\n",
       "      <td>5</td>\n",
       "      <td>5</td>\n",
       "      <td>B15</td>\n",
       "      <td>15</td>\n",
       "    </tr>\n",
       "    <tr>\n",
       "      <th>9138</th>\n",
       "      <td>School/college/university</td>\n",
       "      <td>University Of Birmingham</td>\n",
       "      <td>Birmingham</td>\n",
       "      <td>B15 2QT</td>\n",
       "      <td>0</td>\n",
       "      <td>0</td>\n",
       "      <td>0</td>\n",
       "      <td>B15</td>\n",
       "      <td>0</td>\n",
       "    </tr>\n",
       "    <tr>\n",
       "      <th>9140</th>\n",
       "      <td>School/college/university</td>\n",
       "      <td>University Of Birmingham</td>\n",
       "      <td>Birmingham</td>\n",
       "      <td>B15 3QR</td>\n",
       "      <td>5</td>\n",
       "      <td>5</td>\n",
       "      <td>5</td>\n",
       "      <td>B15</td>\n",
       "      <td>15</td>\n",
       "    </tr>\n",
       "  </tbody>\n",
       "</table>\n",
       "</div>"
      ],
      "text/plain": [
       "                   BusinessType                          BusinessName  \\\n",
       "544   School/college/university  Aston University Engineering Academy   \n",
       "955   School/college/university            Birmingham City University   \n",
       "9138  School/college/university              University Of Birmingham   \n",
       "9140  School/college/university              University Of Birmingham   \n",
       "\n",
       "     LocalAuthorityName PostCode  Hygiene  Structural  ConfidenceInManagement  \\\n",
       "544          Birmingham   B7 4AG        0          15                       0   \n",
       "955          Birmingham  B15 3TN        5           5                       5   \n",
       "9138         Birmingham  B15 2QT        0           0                       0   \n",
       "9140         Birmingham  B15 3QR        5           5                       5   \n",
       "\n",
       "     Zone  Score  \n",
       "544   B7      15  \n",
       "955   B15     15  \n",
       "9138  B15      0  \n",
       "9140  B15     15  "
      ]
     },
     "execution_count": 28,
     "metadata": {},
     "output_type": "execute_result"
    }
   ],
   "source": [
    "import re\n",
    "def uni(x):\n",
    "    match=re.search('University', x)\n",
    "    if match != None:\n",
    "        return True\n",
    "    else:\n",
    "        return False\n",
    "    \n",
    "df_uni=df[df['BusinessType']=='School/college/university']\n",
    "indicator=df_uni['BusinessName'].apply(uni).values\n",
    "df_uni=df_uni[indicator]\n",
    "\n",
    "df_uni"
   ]
  },
  {
   "cell_type": "code",
   "execution_count": 29,
   "id": "8c85eb9c",
   "metadata": {},
   "outputs": [
    {
     "data": {
      "text/plain": [
       "['Aston University Engineering Academy',\n",
       " 'Birmingham City University',\n",
       " 'University Of Birmingham']"
      ]
     },
     "execution_count": 29,
     "metadata": {},
     "output_type": "execute_result"
    }
   ],
   "source": [
    "df_uni[df_uni['Score']==df_uni['Score'].max()]['BusinessName'].tolist()"
   ]
  },
  {
   "cell_type": "markdown",
   "id": "357652cd",
   "metadata": {},
   "source": [
    "##### Which college does have the best score?"
   ]
  },
  {
   "cell_type": "code",
   "execution_count": 111,
   "id": "aff2b9c2",
   "metadata": {},
   "outputs": [
    {
     "data": {
      "text/html": [
       "<div>\n",
       "<style scoped>\n",
       "    .dataframe tbody tr th:only-of-type {\n",
       "        vertical-align: middle;\n",
       "    }\n",
       "\n",
       "    .dataframe tbody tr th {\n",
       "        vertical-align: top;\n",
       "    }\n",
       "\n",
       "    .dataframe thead th {\n",
       "        text-align: right;\n",
       "    }\n",
       "</style>\n",
       "<table border=\"1\" class=\"dataframe\">\n",
       "  <thead>\n",
       "    <tr style=\"text-align: right;\">\n",
       "      <th></th>\n",
       "      <th>BusinessType</th>\n",
       "      <th>BusinessName</th>\n",
       "      <th>LocalAuthorityName</th>\n",
       "      <th>PostCode</th>\n",
       "      <th>Hygiene</th>\n",
       "      <th>Structural</th>\n",
       "      <th>ConfidenceInManagement</th>\n",
       "      <th>Zone</th>\n",
       "      <th>Score</th>\n",
       "    </tr>\n",
       "  </thead>\n",
       "  <tbody>\n",
       "    <tr>\n",
       "      <th>243</th>\n",
       "      <td>School/college/university</td>\n",
       "      <td>Al-Furqan Community College</td>\n",
       "      <td>Birmingham</td>\n",
       "      <td>B11 3EY</td>\n",
       "      <td>0</td>\n",
       "      <td>0</td>\n",
       "      <td>0</td>\n",
       "      <td>B11</td>\n",
       "      <td>0</td>\n",
       "    </tr>\n",
       "    <tr>\n",
       "      <th>971</th>\n",
       "      <td>School/college/university</td>\n",
       "      <td>Birmingham Independent College</td>\n",
       "      <td>Birmingham</td>\n",
       "      <td>B6 5NU</td>\n",
       "      <td>5</td>\n",
       "      <td>5</td>\n",
       "      <td>5</td>\n",
       "      <td>B6</td>\n",
       "      <td>15</td>\n",
       "    </tr>\n",
       "    <tr>\n",
       "      <th>976</th>\n",
       "      <td>School/college/university</td>\n",
       "      <td>Birmingham Metropolitan College</td>\n",
       "      <td>Birmingham</td>\n",
       "      <td>B44 8NE</td>\n",
       "      <td>0</td>\n",
       "      <td>0</td>\n",
       "      <td>0</td>\n",
       "      <td>B44</td>\n",
       "      <td>0</td>\n",
       "    </tr>\n",
       "    <tr>\n",
       "      <th>977</th>\n",
       "      <td>School/college/university</td>\n",
       "      <td>Birmingham Metropolitan College</td>\n",
       "      <td>Birmingham</td>\n",
       "      <td>B74 2NW</td>\n",
       "      <td>0</td>\n",
       "      <td>0</td>\n",
       "      <td>0</td>\n",
       "      <td>B74</td>\n",
       "      <td>0</td>\n",
       "    </tr>\n",
       "    <tr>\n",
       "      <th>1425</th>\n",
       "      <td>School/college/university</td>\n",
       "      <td>Cadbury Sixth Form College</td>\n",
       "      <td>Birmingham</td>\n",
       "      <td>B38 8QT</td>\n",
       "      <td>10</td>\n",
       "      <td>0</td>\n",
       "      <td>10</td>\n",
       "      <td>B38</td>\n",
       "      <td>20</td>\n",
       "    </tr>\n",
       "  </tbody>\n",
       "</table>\n",
       "</div>"
      ],
      "text/plain": [
       "                   BusinessType                     BusinessName  \\\n",
       "243   School/college/university      Al-Furqan Community College   \n",
       "971   School/college/university   Birmingham Independent College   \n",
       "976   School/college/university  Birmingham Metropolitan College   \n",
       "977   School/college/university  Birmingham Metropolitan College   \n",
       "1425  School/college/university       Cadbury Sixth Form College   \n",
       "\n",
       "     LocalAuthorityName PostCode  Hygiene  Structural  ConfidenceInManagement  \\\n",
       "243          Birmingham  B11 3EY        0           0                       0   \n",
       "971          Birmingham   B6 5NU        5           5                       5   \n",
       "976          Birmingham  B44 8NE        0           0                       0   \n",
       "977          Birmingham  B74 2NW        0           0                       0   \n",
       "1425         Birmingham  B38 8QT       10           0                      10   \n",
       "\n",
       "     Zone  Score  \n",
       "243   B11      0  \n",
       "971   B6      15  \n",
       "976   B44      0  \n",
       "977   B74      0  \n",
       "1425  B38     20  "
      ]
     },
     "execution_count": 111,
     "metadata": {},
     "output_type": "execute_result"
    }
   ],
   "source": [
    "import re\n",
    "def uni(x):\n",
    "    match=re.search('College', x)\n",
    "    if match != None:\n",
    "        return True\n",
    "    else:\n",
    "        return False\n",
    "    \n",
    "df_college=df[df['BusinessType']=='School/college/university']\n",
    "indicator=df_college['BusinessName'].apply(uni).values\n",
    "df_college=df_college[indicator]\n",
    "df_college.head()"
   ]
  },
  {
   "cell_type": "code",
   "execution_count": 112,
   "id": "573783d4",
   "metadata": {},
   "outputs": [
    {
     "data": {
      "text/plain": [
       "['Cadbury Sixth Form College', 'Victoria College']"
      ]
     },
     "execution_count": 112,
     "metadata": {},
     "output_type": "execute_result"
    }
   ],
   "source": [
    "df_college[df_college['Score']==df_college['Score'].max()]['BusinessName'].tolist()"
   ]
  },
  {
   "cell_type": "markdown",
   "id": "db750ce6",
   "metadata": {},
   "source": [
    "### Summary"
   ]
  },
  {
   "cell_type": "markdown",
   "id": "13aad7ac",
   "metadata": {},
   "source": [
    "- The overall score of 78% of the permises is less than 25 while about 1.25 % of the permises score over 50.\n",
    "\n",
    "- There is no clear correlation among the component scores\n",
    "\n",
    "- Takeaway/sandwich shops are the most hygienic permises with an average hygiene score of about 7.5, heading Restaurant/Cafe/Canteen with 5.43. Distributors/Transporters came last on the list with 2.33, just after School/college/university."
   ]
  },
  {
   "cell_type": "code",
   "execution_count": null,
   "id": "fd8aa344",
   "metadata": {},
   "outputs": [],
   "source": []
  }
 ],
 "metadata": {
  "kernelspec": {
   "display_name": "Python 3",
   "language": "python",
   "name": "python3"
  },
  "language_info": {
   "codemirror_mode": {
    "name": "ipython",
    "version": 3
   },
   "file_extension": ".py",
   "mimetype": "text/x-python",
   "name": "python",
   "nbconvert_exporter": "python",
   "pygments_lexer": "ipython3",
   "version": "3.8.8"
  }
 },
 "nbformat": 4,
 "nbformat_minor": 5
}
