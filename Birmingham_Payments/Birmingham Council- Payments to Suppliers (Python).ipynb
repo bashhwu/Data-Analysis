{
 "cells": [
  {
   "cell_type": "markdown",
   "id": "c745f65c",
   "metadata": {},
   "source": [
    "## <center> Project: Birmingham City Council Payments to Suppliers </center>\n",
    "\n",
    "By Bashar Mohammad, 1 January 2022.\n",
    "\n",
    "The data shows the individual payments made by Birmingham City Council to suppliers with a value over £500 over period between April 2020 and October 2021. In this notebook, we create insights out of the data.\n",
    "\n",
    "- Which are the main spending departments of the council? What can be learned from their payment distribution?\n",
    "\n",
    "- What are the the five top beneficiaries?\n",
    "\n",
    "- What are the 10 top main beneficiaries which received payments from the department of Adult Social Care?\n",
    "\n",
    "- When did the first expenditure start on Commonwealth games start?\n",
    "\n",
    "- Which is the most popular beneficiary across the departments? and how much money does it receive in total?\n",
    "\n",
    " \n",
    "\n",
    "\n",
    "\n",
    "https://data.birmingham.gov.uk/dataset/october-2021-payments-to-suppliers"
   ]
  },
  {
   "cell_type": "code",
   "execution_count": 1,
   "id": "78332fc7",
   "metadata": {},
   "outputs": [
    {
     "name": "stdout",
     "output_type": "stream",
     "text": [
      "\u001b[H\u001b[2J"
     ]
    }
   ],
   "source": [
    "clear all"
   ]
  },
  {
   "cell_type": "code",
   "execution_count": 2,
   "id": "9f60cc05",
   "metadata": {},
   "outputs": [],
   "source": [
    "import pandas as pd\n",
    "import numpy as np\n",
    "import seaborn as sns\n",
    "import matplotlib.pyplot as plt\n",
    "from datetime import datetime\n"
   ]
  },
  {
   "cell_type": "code",
   "execution_count": 3,
   "id": "b91b28f2",
   "metadata": {},
   "outputs": [],
   "source": [
    "file_names=['january_2021.xlsx','may_2021.xlsx',\n",
    "'april_2021.xlsx', 'july_2020.xlsx','october_2020.xlsx',\n",
    "'august_2020.xlsx','july_2021.xlsx','october_2021.xlsx',\n",
    "'august_2021.xlsx','june_2020.xlsx','september_2020.xlsx',\n",
    "'june_2021.xlsx', 'september_2021.xlsx', 'november_2020.xlsx',\n",
    "'december_2020.xlsx', 'march_2021.xlsx', 'february_2021.xlsx',\n",
    "'may_2020.xlsx']"
   ]
  },
  {
   "cell_type": "markdown",
   "id": "75d1b83e",
   "metadata": {},
   "source": [
    "# Cleaning the data"
   ]
  },
  {
   "cell_type": "markdown",
   "id": "c4d9a9eb",
   "metadata": {},
   "source": [
    "It is obvious from the column names that there is a space at the end of the name of Department column, so we will rename it to \"Department\". Let us update the code used to concatenate the tables. "
   ]
  },
  {
   "cell_type": "code",
   "execution_count": 4,
   "id": "b63ad0d8",
   "metadata": {},
   "outputs": [],
   "source": [
    "df=pd.read_excel('april_2020.xlsx')\n",
    "df = df.rename(columns={'Department ' : 'Department'})\n",
    "\n",
    "for file_name in file_names:\n",
    "    temp=pd.read_excel(file_name)\n",
    "    \n",
    "    # Those dataframes with a space at the end of the name of the Department column.\n",
    "    temp = temp.rename(columns={'Department ' : 'Department'})\n",
    "\n",
    "    df=pd.concat([df,temp],ignore_index=True)\n"
   ]
  },
  {
   "cell_type": "code",
   "execution_count": 5,
   "id": "be03dec6",
   "metadata": {},
   "outputs": [],
   "source": [
    "df['Date']=pd.to_datetime(df['Date'])"
   ]
  },
  {
   "cell_type": "markdown",
   "id": "d2ee6060",
   "metadata": {},
   "source": [
    "Having looked at the date column, we realize that that there are two records which lie outside the period stated for this dataset. They corresponds dates are 6/1/2020 and 9/1/2020. It is more likely that such an error took place by accident and day and month should be exchanged. "
   ]
  },
  {
   "cell_type": "code",
   "execution_count": 6,
   "id": "9205231d",
   "metadata": {},
   "outputs": [],
   "source": [
    "df['Date']=df['Date'].replace(datetime(2020,1,9),datetime(2020,9,1))"
   ]
  },
  {
   "cell_type": "code",
   "execution_count": 7,
   "id": "01291f66",
   "metadata": {},
   "outputs": [],
   "source": [
    "df['Date']=df['Date'].replace(datetime(2020,1,6),datetime(2020,6,1))"
   ]
  },
  {
   "cell_type": "markdown",
   "id": "2e98841f",
   "metadata": {},
   "source": [
    "######  Let us sort the table in ascending order by the date column"
   ]
  },
  {
   "cell_type": "code",
   "execution_count": 8,
   "id": "d9e7c844",
   "metadata": {},
   "outputs": [
    {
     "data": {
      "text/html": [
       "<div>\n",
       "<style scoped>\n",
       "    .dataframe tbody tr th:only-of-type {\n",
       "        vertical-align: middle;\n",
       "    }\n",
       "\n",
       "    .dataframe tbody tr th {\n",
       "        vertical-align: top;\n",
       "    }\n",
       "\n",
       "    .dataframe thead th {\n",
       "        text-align: right;\n",
       "    }\n",
       "</style>\n",
       "<table border=\"1\" class=\"dataframe\">\n",
       "  <thead>\n",
       "    <tr style=\"text-align: right;\">\n",
       "      <th></th>\n",
       "      <th>index</th>\n",
       "      <th>Body</th>\n",
       "      <th>Date</th>\n",
       "      <th>Department</th>\n",
       "      <th>Beneficiary</th>\n",
       "      <th>Summary</th>\n",
       "      <th>Amount</th>\n",
       "      <th>Vendor Number</th>\n",
       "      <th>Unnamed: 7</th>\n",
       "      <th>Unnamed: 8</th>\n",
       "      <th>...</th>\n",
       "      <th>Unnamed: 9</th>\n",
       "      <th>Unnamed: 10</th>\n",
       "      <th>Unnamed: 11</th>\n",
       "      <th>Unnamed: 12</th>\n",
       "      <th>Unnamed: 13</th>\n",
       "      <th>Unnamed: 14</th>\n",
       "      <th>Unnamed: 15</th>\n",
       "      <th>Unnamed: 16</th>\n",
       "      <th>Unnamed: 17</th>\n",
       "      <th>Unnamed: 18</th>\n",
       "    </tr>\n",
       "  </thead>\n",
       "  <tbody>\n",
       "    <tr>\n",
       "      <th>0</th>\n",
       "      <td>2841</td>\n",
       "      <td>Birmingham City Council</td>\n",
       "      <td>2020-04-01</td>\n",
       "      <td>Neighbourhoods</td>\n",
       "      <td>CREATIVE COHESION WEST MIDLANDS</td>\n",
       "      <td>Grants To Vol Orgs</td>\n",
       "      <td>860.0</td>\n",
       "      <td>B138426</td>\n",
       "      <td>NaN</td>\n",
       "      <td>NaN</td>\n",
       "      <td>...</td>\n",
       "      <td>NaN</td>\n",
       "      <td>NaN</td>\n",
       "      <td>NaN</td>\n",
       "      <td>NaN</td>\n",
       "      <td>NaN</td>\n",
       "      <td>NaN</td>\n",
       "      <td>NaN</td>\n",
       "      <td>NaN</td>\n",
       "      <td>NaN</td>\n",
       "      <td>NaN</td>\n",
       "    </tr>\n",
       "    <tr>\n",
       "      <th>1</th>\n",
       "      <td>8037</td>\n",
       "      <td>Birmingham City Council</td>\n",
       "      <td>2020-04-01</td>\n",
       "      <td>Adults Social Care</td>\n",
       "      <td>NDH CARE LTD</td>\n",
       "      <td>HPDT/EAB OA</td>\n",
       "      <td>817.6</td>\n",
       "      <td>C103388</td>\n",
       "      <td>NaN</td>\n",
       "      <td>NaN</td>\n",
       "      <td>...</td>\n",
       "      <td>NaN</td>\n",
       "      <td>NaN</td>\n",
       "      <td>NaN</td>\n",
       "      <td>NaN</td>\n",
       "      <td>NaN</td>\n",
       "      <td>NaN</td>\n",
       "      <td>NaN</td>\n",
       "      <td>NaN</td>\n",
       "      <td>NaN</td>\n",
       "      <td>NaN</td>\n",
       "    </tr>\n",
       "    <tr>\n",
       "      <th>2</th>\n",
       "      <td>3148</td>\n",
       "      <td>Birmingham City Council</td>\n",
       "      <td>2020-04-01</td>\n",
       "      <td>Education &amp; Skills</td>\n",
       "      <td>DIRECT AUTOMATION LTD</td>\n",
       "      <td>Schools Delegated Budget</td>\n",
       "      <td>6912.0</td>\n",
       "      <td>B55569</td>\n",
       "      <td>NaN</td>\n",
       "      <td>NaN</td>\n",
       "      <td>...</td>\n",
       "      <td>NaN</td>\n",
       "      <td>NaN</td>\n",
       "      <td>NaN</td>\n",
       "      <td>NaN</td>\n",
       "      <td>NaN</td>\n",
       "      <td>NaN</td>\n",
       "      <td>NaN</td>\n",
       "      <td>NaN</td>\n",
       "      <td>NaN</td>\n",
       "      <td>NaN</td>\n",
       "    </tr>\n",
       "  </tbody>\n",
       "</table>\n",
       "<p>3 rows × 21 columns</p>\n",
       "</div>"
      ],
      "text/plain": [
       "   index                     Body       Date           Department  \\\n",
       "0   2841  Birmingham City Council 2020-04-01       Neighbourhoods   \n",
       "1   8037  Birmingham City Council 2020-04-01  Adults Social Care    \n",
       "2   3148  Birmingham City Council 2020-04-01  Education & Skills    \n",
       "\n",
       "                       Beneficiary                   Summary  Amount  \\\n",
       "0  CREATIVE COHESION WEST MIDLANDS        Grants To Vol Orgs   860.0   \n",
       "1                     NDH CARE LTD               HPDT/EAB OA   817.6   \n",
       "2            DIRECT AUTOMATION LTD  Schools Delegated Budget  6912.0   \n",
       "\n",
       "  Vendor Number  Unnamed: 7 Unnamed: 8  ... Unnamed: 9  Unnamed: 10  \\\n",
       "0       B138426         NaN        NaN  ...        NaN          NaN   \n",
       "1       C103388         NaN        NaN  ...        NaN          NaN   \n",
       "2        B55569         NaN        NaN  ...        NaN          NaN   \n",
       "\n",
       "   Unnamed: 11  Unnamed: 12  Unnamed: 13  Unnamed: 14  Unnamed: 15  \\\n",
       "0          NaN          NaN          NaN          NaN          NaN   \n",
       "1          NaN          NaN          NaN          NaN          NaN   \n",
       "2          NaN          NaN          NaN          NaN          NaN   \n",
       "\n",
       "   Unnamed: 16  Unnamed: 17  Unnamed: 18  \n",
       "0          NaN          NaN          NaN  \n",
       "1          NaN          NaN          NaN  \n",
       "2          NaN          NaN          NaN  \n",
       "\n",
       "[3 rows x 21 columns]"
      ]
     },
     "execution_count": 8,
     "metadata": {},
     "output_type": "execute_result"
    }
   ],
   "source": [
    "df=df.sort_values('Date').reset_index()\n",
    "df.head(3)"
   ]
  },
  {
   "cell_type": "code",
   "execution_count": 9,
   "id": "4e7ebe27",
   "metadata": {},
   "outputs": [
    {
     "data": {
      "text/plain": [
       "Index(['index', 'Body', 'Date', 'Department', 'Beneficiary', 'Summary',\n",
       "       'Amount', 'Vendor Number', 'Unnamed: 7', 'Unnamed: 8',\n",
       "       'Merchant Category', 'Unnamed: 9', 'Unnamed: 10', 'Unnamed: 11',\n",
       "       'Unnamed: 12', 'Unnamed: 13', 'Unnamed: 14', 'Unnamed: 15',\n",
       "       'Unnamed: 16', 'Unnamed: 17', 'Unnamed: 18'],\n",
       "      dtype='object')"
      ]
     },
     "execution_count": 9,
     "metadata": {},
     "output_type": "execute_result"
    }
   ],
   "source": [
    "df.columns"
   ]
  },
  {
   "cell_type": "markdown",
   "id": "33889554",
   "metadata": {},
   "source": [
    "There are some unnecessary columns which need to be removed. "
   ]
  },
  {
   "cell_type": "code",
   "execution_count": 10,
   "id": "173f7b11",
   "metadata": {},
   "outputs": [],
   "source": [
    "df=df[[ 'Date', 'Department', 'Beneficiary', 'Summary',\n",
    "       'Amount', 'Vendor Number']]"
   ]
  },
  {
   "cell_type": "markdown",
   "id": "3ad62aeb",
   "metadata": {},
   "source": [
    "## Missing values"
   ]
  },
  {
   "cell_type": "code",
   "execution_count": 11,
   "id": "49b4772b",
   "metadata": {},
   "outputs": [
    {
     "data": {
      "text/plain": [
       "Date             0\n",
       "Department       2\n",
       "Beneficiary      0\n",
       "Summary          3\n",
       "Amount           0\n",
       "Vendor Number    0\n",
       "dtype: int64"
      ]
     },
     "execution_count": 11,
     "metadata": {},
     "output_type": "execute_result"
    }
   ],
   "source": [
    "df.isnull().sum()"
   ]
  },
  {
   "cell_type": "code",
   "execution_count": 12,
   "id": "9392fb43",
   "metadata": {},
   "outputs": [
    {
     "data": {
      "text/html": [
       "<div>\n",
       "<style scoped>\n",
       "    .dataframe tbody tr th:only-of-type {\n",
       "        vertical-align: middle;\n",
       "    }\n",
       "\n",
       "    .dataframe tbody tr th {\n",
       "        vertical-align: top;\n",
       "    }\n",
       "\n",
       "    .dataframe thead th {\n",
       "        text-align: right;\n",
       "    }\n",
       "</style>\n",
       "<table border=\"1\" class=\"dataframe\">\n",
       "  <thead>\n",
       "    <tr style=\"text-align: right;\">\n",
       "      <th></th>\n",
       "      <th>Date</th>\n",
       "      <th>Department</th>\n",
       "      <th>Beneficiary</th>\n",
       "      <th>Summary</th>\n",
       "      <th>Amount</th>\n",
       "      <th>Vendor Number</th>\n",
       "    </tr>\n",
       "  </thead>\n",
       "  <tbody>\n",
       "    <tr>\n",
       "      <th>13761</th>\n",
       "      <td>2020-05-01</td>\n",
       "      <td>NaN</td>\n",
       "      <td>ACIVICO (DCFM) LIMITED</td>\n",
       "      <td>NaN</td>\n",
       "      <td>1329521.96</td>\n",
       "      <td>B145890</td>\n",
       "    </tr>\n",
       "    <tr>\n",
       "      <th>21587</th>\n",
       "      <td>2020-05-21</td>\n",
       "      <td>NaN</td>\n",
       "      <td>ACIVICO (DCFM) LIMITED</td>\n",
       "      <td>NaN</td>\n",
       "      <td>510149.33</td>\n",
       "      <td>B145890</td>\n",
       "    </tr>\n",
       "    <tr>\n",
       "      <th>150298</th>\n",
       "      <td>2021-03-29</td>\n",
       "      <td>CA-02996-03</td>\n",
       "      <td>BAMFORD BUS COMPANY LTD</td>\n",
       "      <td>NaN</td>\n",
       "      <td>658670.40</td>\n",
       "      <td>B145582</td>\n",
       "    </tr>\n",
       "  </tbody>\n",
       "</table>\n",
       "</div>"
      ],
      "text/plain": [
       "             Date   Department              Beneficiary Summary      Amount  \\\n",
       "13761  2020-05-01          NaN   ACIVICO (DCFM) LIMITED     NaN  1329521.96   \n",
       "21587  2020-05-21          NaN   ACIVICO (DCFM) LIMITED     NaN   510149.33   \n",
       "150298 2021-03-29  CA-02996-03  BAMFORD BUS COMPANY LTD     NaN   658670.40   \n",
       "\n",
       "       Vendor Number  \n",
       "13761        B145890  \n",
       "21587        B145890  \n",
       "150298       B145582  "
      ]
     },
     "execution_count": 12,
     "metadata": {},
     "output_type": "execute_result"
    }
   ],
   "source": [
    "df[df.Summary.isnull()]"
   ]
  },
  {
   "cell_type": "code",
   "execution_count": 13,
   "id": "30548531",
   "metadata": {},
   "outputs": [
    {
     "data": {
      "text/plain": [
       "array(['Neighbourhoods', 'Adults Social Care ', 'Education & Skills ',\n",
       "       'Inclusive Growth', 'Finance & Governance', 'Chief Exec',\n",
       "       'Digital & Customer', 'Human Resources ',\n",
       "       'Partnerships Insight and Prevention', nan,\n",
       "       'Commonwealth Games 2022', 'Education & Skills',\n",
       "       'Skills & Education', 'Finance & Governance ',\n",
       "       \"Birmingham Children's Trust\", 'CA-02996-03', 'CA-02700-04',\n",
       "       'Commonwealth Games', 'Adults Social Care'], dtype=object)"
      ]
     },
     "execution_count": 13,
     "metadata": {},
     "output_type": "execute_result"
    }
   ],
   "source": [
    "df.Department.unique()"
   ]
  },
  {
   "cell_type": "markdown",
   "id": "2ae9ef08",
   "metadata": {},
   "source": [
    "From the unique values of the Department column, we can see that 'Skills & Education' and 'Education & Skills' are the same. \n",
    "\n",
    "'Finance & Governance ' has a white space at the end. Hence, We need to remove the space from the values in the Department column.\n",
    "\n",
    "Also, The departments of \"Commonwealth Games\" and \"Commonwealth Games 2022\" in the Department column are the same, so we need to unify them."
   ]
  },
  {
   "cell_type": "code",
   "execution_count": 14,
   "id": "f8a06dc2",
   "metadata": {},
   "outputs": [],
   "source": [
    "df['Department'] = df['Department'].str.rstrip(' ')\n",
    "df['Department'] = df['Department'].str.rstrip(' 2022')"
   ]
  },
  {
   "cell_type": "code",
   "execution_count": 15,
   "id": "c5d8f6fa",
   "metadata": {},
   "outputs": [],
   "source": [
    "df.Department=df.Department.replace('Skills & Education', 'Education & Skills')"
   ]
  },
  {
   "cell_type": "markdown",
   "id": "cab34ab3",
   "metadata": {},
   "source": [
    "#### Create a new column, namely 'year-month'"
   ]
  },
  {
   "cell_type": "code",
   "execution_count": 16,
   "id": "de40c6dc",
   "metadata": {},
   "outputs": [],
   "source": [
    "#df['year']=df['Date'].dt.year\n",
    "#df['month']=df['Date'].dt.month\n",
    "df['year-month']=df['Date'].dt.strftime('%y-%m')"
   ]
  },
  {
   "cell_type": "markdown",
   "id": "e2267d3f",
   "metadata": {},
   "source": [
    "\n",
    "### Which are the main spending departments of the council? What can be drawn from their payment distribution?\n"
   ]
  },
  {
   "cell_type": "markdown",
   "id": "50d57da8",
   "metadata": {},
   "source": [
    "#### The statistical properties of the payment across the departments"
   ]
  },
  {
   "cell_type": "code",
   "execution_count": 55,
   "id": "fc5ff496",
   "metadata": {},
   "outputs": [
    {
     "data": {
      "text/html": [
       "<div>\n",
       "<style scoped>\n",
       "    .dataframe tbody tr th:only-of-type {\n",
       "        vertical-align: middle;\n",
       "    }\n",
       "\n",
       "    .dataframe tbody tr th {\n",
       "        vertical-align: top;\n",
       "    }\n",
       "\n",
       "    .dataframe thead th {\n",
       "        text-align: right;\n",
       "    }\n",
       "</style>\n",
       "<table border=\"1\" class=\"dataframe\">\n",
       "  <thead>\n",
       "    <tr style=\"text-align: right;\">\n",
       "      <th></th>\n",
       "      <th>min</th>\n",
       "      <th>max</th>\n",
       "      <th>mean</th>\n",
       "      <th>median</th>\n",
       "    </tr>\n",
       "    <tr>\n",
       "      <th>Department</th>\n",
       "      <th></th>\n",
       "      <th></th>\n",
       "      <th></th>\n",
       "      <th></th>\n",
       "    </tr>\n",
       "  </thead>\n",
       "  <tbody>\n",
       "    <tr>\n",
       "      <th>Adults Social Care</th>\n",
       "      <td>500.00</td>\n",
       "      <td>1371427.20</td>\n",
       "      <td>5422.691519</td>\n",
       "      <td>1710.240</td>\n",
       "    </tr>\n",
       "    <tr>\n",
       "      <th>Birmingham Children's Trust</th>\n",
       "      <td>834430.22</td>\n",
       "      <td>834430.22</td>\n",
       "      <td>834430.220000</td>\n",
       "      <td>834430.220</td>\n",
       "    </tr>\n",
       "    <tr>\n",
       "      <th>CA-02700-04</th>\n",
       "      <td>241920.00</td>\n",
       "      <td>241920.00</td>\n",
       "      <td>241920.000000</td>\n",
       "      <td>241920.000</td>\n",
       "    </tr>\n",
       "    <tr>\n",
       "      <th>CA-02996-03</th>\n",
       "      <td>658670.40</td>\n",
       "      <td>658670.40</td>\n",
       "      <td>658670.400000</td>\n",
       "      <td>658670.400</td>\n",
       "    </tr>\n",
       "    <tr>\n",
       "      <th>Chief Exec</th>\n",
       "      <td>500.00</td>\n",
       "      <td>2740636.75</td>\n",
       "      <td>47771.173957</td>\n",
       "      <td>2252.135</td>\n",
       "    </tr>\n",
       "    <tr>\n",
       "      <th>Commonwealth Games</th>\n",
       "      <td>4125.00</td>\n",
       "      <td>2833334.00</td>\n",
       "      <td>551527.339286</td>\n",
       "      <td>29850.000</td>\n",
       "    </tr>\n",
       "    <tr>\n",
       "      <th>Digital &amp; Customer</th>\n",
       "      <td>500.00</td>\n",
       "      <td>4871375.95</td>\n",
       "      <td>36512.128637</td>\n",
       "      <td>5100.000</td>\n",
       "    </tr>\n",
       "    <tr>\n",
       "      <th>Education &amp; Skills</th>\n",
       "      <td>500.00</td>\n",
       "      <td>20838774.25</td>\n",
       "      <td>6974.380877</td>\n",
       "      <td>1427.980</td>\n",
       "    </tr>\n",
       "    <tr>\n",
       "      <th>Finance &amp; Governance</th>\n",
       "      <td>500.00</td>\n",
       "      <td>21386955.11</td>\n",
       "      <td>83576.916346</td>\n",
       "      <td>1800.000</td>\n",
       "    </tr>\n",
       "    <tr>\n",
       "      <th>Human Resources</th>\n",
       "      <td>500.00</td>\n",
       "      <td>101526.35</td>\n",
       "      <td>9183.500449</td>\n",
       "      <td>2072.000</td>\n",
       "    </tr>\n",
       "    <tr>\n",
       "      <th>Inclusive Growth</th>\n",
       "      <td>500.00</td>\n",
       "      <td>18920000.00</td>\n",
       "      <td>44527.998508</td>\n",
       "      <td>2191.920</td>\n",
       "    </tr>\n",
       "    <tr>\n",
       "      <th>Neighbourhoods</th>\n",
       "      <td>500.00</td>\n",
       "      <td>7383317.12</td>\n",
       "      <td>8990.269757</td>\n",
       "      <td>699.140</td>\n",
       "    </tr>\n",
       "    <tr>\n",
       "      <th>Partnerships Insight and Prevention</th>\n",
       "      <td>500.00</td>\n",
       "      <td>1215458.40</td>\n",
       "      <td>9949.616603</td>\n",
       "      <td>2370.000</td>\n",
       "    </tr>\n",
       "  </tbody>\n",
       "</table>\n",
       "</div>"
      ],
      "text/plain": [
       "                                           min          max           mean  \\\n",
       "Department                                                                   \n",
       "Adults Social Care                      500.00   1371427.20    5422.691519   \n",
       "Birmingham Children's Trust          834430.22    834430.22  834430.220000   \n",
       "CA-02700-04                          241920.00    241920.00  241920.000000   \n",
       "CA-02996-03                          658670.40    658670.40  658670.400000   \n",
       "Chief Exec                              500.00   2740636.75   47771.173957   \n",
       "Commonwealth Games                     4125.00   2833334.00  551527.339286   \n",
       "Digital & Customer                      500.00   4871375.95   36512.128637   \n",
       "Education & Skills                      500.00  20838774.25    6974.380877   \n",
       "Finance & Governance                    500.00  21386955.11   83576.916346   \n",
       "Human Resources                         500.00    101526.35    9183.500449   \n",
       "Inclusive Growth                        500.00  18920000.00   44527.998508   \n",
       "Neighbourhoods                          500.00   7383317.12    8990.269757   \n",
       "Partnerships Insight and Prevention     500.00   1215458.40    9949.616603   \n",
       "\n",
       "                                         median  \n",
       "Department                                       \n",
       "Adults Social Care                     1710.240  \n",
       "Birmingham Children's Trust          834430.220  \n",
       "CA-02700-04                          241920.000  \n",
       "CA-02996-03                          658670.400  \n",
       "Chief Exec                             2252.135  \n",
       "Commonwealth Games                    29850.000  \n",
       "Digital & Customer                     5100.000  \n",
       "Education & Skills                     1427.980  \n",
       "Finance & Governance                   1800.000  \n",
       "Human Resources                        2072.000  \n",
       "Inclusive Growth                       2191.920  \n",
       "Neighbourhoods                          699.140  \n",
       "Partnerships Insight and Prevention    2370.000  "
      ]
     },
     "execution_count": 55,
     "metadata": {},
     "output_type": "execute_result"
    }
   ],
   "source": [
    "df.groupby(['Department'])['Amount'].agg(['min', 'max','mean','median'])"
   ]
  },
  {
   "cell_type": "markdown",
   "id": "df8ea6d5",
   "metadata": {},
   "source": [
    "From four statistical properties shown in the table above,  we can see that the departments of Birmingham Children's Trust, CA-02700-04 and CA-02996-03 made only a single payment in March 2021 to a single beneficiary.\n",
    "\n",
    "As for the rest of the departments, we can realize that a small number of large payments pulled the mean above the median. Provided the wide range of payments for the latter, the median would be a more sensible average measure in this case.   "
   ]
  },
  {
   "cell_type": "code",
   "execution_count": 63,
   "id": "a93a17c0",
   "metadata": {},
   "outputs": [
    {
     "data": {
      "text/html": [
       "<div>\n",
       "<style scoped>\n",
       "    .dataframe tbody tr th:only-of-type {\n",
       "        vertical-align: middle;\n",
       "    }\n",
       "\n",
       "    .dataframe tbody tr th {\n",
       "        vertical-align: top;\n",
       "    }\n",
       "\n",
       "    .dataframe thead th {\n",
       "        text-align: right;\n",
       "    }\n",
       "</style>\n",
       "<table border=\"1\" class=\"dataframe\">\n",
       "  <thead>\n",
       "    <tr style=\"text-align: right;\">\n",
       "      <th></th>\n",
       "      <th>Date</th>\n",
       "      <th>Department</th>\n",
       "      <th>Beneficiary</th>\n",
       "      <th>Summary</th>\n",
       "      <th>Amount</th>\n",
       "      <th>Vendor Number</th>\n",
       "      <th>year-month</th>\n",
       "    </tr>\n",
       "  </thead>\n",
       "  <tbody>\n",
       "    <tr>\n",
       "      <th>150298</th>\n",
       "      <td>2021-03-29</td>\n",
       "      <td>CA-02996-03</td>\n",
       "      <td>BAMFORD BUS COMPANY LTD</td>\n",
       "      <td>NaN</td>\n",
       "      <td>658670.4</td>\n",
       "      <td>B145582</td>\n",
       "      <td>21-03</td>\n",
       "    </tr>\n",
       "  </tbody>\n",
       "</table>\n",
       "</div>"
      ],
      "text/plain": [
       "             Date   Department              Beneficiary Summary    Amount  \\\n",
       "150298 2021-03-29  CA-02996-03  BAMFORD BUS COMPANY LTD     NaN  658670.4   \n",
       "\n",
       "       Vendor Number year-month  \n",
       "150298       B145582      21-03  "
      ]
     },
     "execution_count": 63,
     "metadata": {},
     "output_type": "execute_result"
    }
   ],
   "source": [
    "df[df.Department==\"CA-02996-03\"]"
   ]
  },
  {
   "cell_type": "code",
   "execution_count": 21,
   "id": "9dcfc679",
   "metadata": {},
   "outputs": [
    {
     "data": {
      "image/png": "[encoded data removed]",
      "text/plain": [
       "<Figure size 1368x1008 with 1 Axes>"
      ]
     },
     "metadata": {
      "needs_background": "light"
     },
     "output_type": "display_data"
    }
   ],
   "source": [
    "fig = plt.figure(figsize=(19,14))\n",
    "ax = fig.subplots()\n",
    "\n",
    "df_fi=df[(df['Department']=='Finance & Governance') | (df['Department']=='Education & Skills')|(df.Department=='Adults Social Care')| (df.Department=='Neighbourhoods') |(df.Department=='Inclusive Growth')]\n",
    "order=df_fi.groupby(['Department'])['Amount'].median().sort_values(ascending=False).index\n",
    "\n",
    "ax = sns.violinplot(x=\"Department\", order=order,y=\"Amount\", data=df_fi)"
   ]
  },
  {
   "cell_type": "markdown",
   "id": "71ebafc3",
   "metadata": {},
   "source": [
    "Obviosly, the main deprtments have a wide range of payments, but the difference between the median values is not much large. "
   ]
  },
  {
   "cell_type": "markdown",
   "id": "c6b41612",
   "metadata": {},
   "source": []
  },
  {
   "cell_type": "code",
   "execution_count": 51,
   "id": "83a8dc70",
   "metadata": {},
   "outputs": [
    {
     "data": {
      "text/html": [
       "<div>\n",
       "<style scoped>\n",
       "    .dataframe tbody tr th:only-of-type {\n",
       "        vertical-align: middle;\n",
       "    }\n",
       "\n",
       "    .dataframe tbody tr th {\n",
       "        vertical-align: top;\n",
       "    }\n",
       "\n",
       "    .dataframe thead th {\n",
       "        text-align: right;\n",
       "    }\n",
       "</style>\n",
       "<table border=\"1\" class=\"dataframe\">\n",
       "  <thead>\n",
       "    <tr style=\"text-align: right;\">\n",
       "      <th></th>\n",
       "      <th>Department</th>\n",
       "      <th>Amount</th>\n",
       "    </tr>\n",
       "  </thead>\n",
       "  <tbody>\n",
       "    <tr>\n",
       "      <th>0</th>\n",
       "      <td>Finance &amp; Governance</td>\n",
       "      <td>9.896343e+08</td>\n",
       "    </tr>\n",
       "    <tr>\n",
       "      <th>1</th>\n",
       "      <td>Neighbourhoods</td>\n",
       "      <td>5.090560e+08</td>\n",
       "    </tr>\n",
       "    <tr>\n",
       "      <th>2</th>\n",
       "      <td>Adults Social Care</td>\n",
       "      <td>4.964528e+08</td>\n",
       "    </tr>\n",
       "    <tr>\n",
       "      <th>3</th>\n",
       "      <td>Education &amp; Skills</td>\n",
       "      <td>4.898177e+08</td>\n",
       "    </tr>\n",
       "    <tr>\n",
       "      <th>4</th>\n",
       "      <td>Inclusive Growth</td>\n",
       "      <td>4.852216e+08</td>\n",
       "    </tr>\n",
       "    <tr>\n",
       "      <th>5</th>\n",
       "      <td>Digital &amp; Customer</td>\n",
       "      <td>8.065529e+07</td>\n",
       "    </tr>\n",
       "    <tr>\n",
       "      <th>6</th>\n",
       "      <td>Partnerships Insight and Prevention</td>\n",
       "      <td>2.255578e+07</td>\n",
       "    </tr>\n",
       "    <tr>\n",
       "      <th>7</th>\n",
       "      <td>Chief Exec</td>\n",
       "      <td>1.328039e+07</td>\n",
       "    </tr>\n",
       "    <tr>\n",
       "      <th>8</th>\n",
       "      <td>Commonwealth Games</td>\n",
       "      <td>7.721383e+06</td>\n",
       "    </tr>\n",
       "    <tr>\n",
       "      <th>9</th>\n",
       "      <td>Human Resources</td>\n",
       "      <td>4.086658e+06</td>\n",
       "    </tr>\n",
       "    <tr>\n",
       "      <th>10</th>\n",
       "      <td>Birmingham Children's Trust</td>\n",
       "      <td>8.344302e+05</td>\n",
       "    </tr>\n",
       "    <tr>\n",
       "      <th>11</th>\n",
       "      <td>CA-02996-03</td>\n",
       "      <td>6.586704e+05</td>\n",
       "    </tr>\n",
       "    <tr>\n",
       "      <th>12</th>\n",
       "      <td>CA-02700-04</td>\n",
       "      <td>2.419200e+05</td>\n",
       "    </tr>\n",
       "  </tbody>\n",
       "</table>\n",
       "</div>"
      ],
      "text/plain": [
       "                             Department        Amount\n",
       "0                  Finance & Governance  9.896343e+08\n",
       "1                        Neighbourhoods  5.090560e+08\n",
       "2                    Adults Social Care  4.964528e+08\n",
       "3                    Education & Skills  4.898177e+08\n",
       "4                      Inclusive Growth  4.852216e+08\n",
       "5                    Digital & Customer  8.065529e+07\n",
       "6   Partnerships Insight and Prevention  2.255578e+07\n",
       "7                            Chief Exec  1.328039e+07\n",
       "8                    Commonwealth Games  7.721383e+06\n",
       "9                       Human Resources  4.086658e+06\n",
       "10          Birmingham Children's Trust  8.344302e+05\n",
       "11                          CA-02996-03  6.586704e+05\n",
       "12                          CA-02700-04  2.419200e+05"
      ]
     },
     "execution_count": 51,
     "metadata": {},
     "output_type": "execute_result"
    }
   ],
   "source": [
    "df_dep=df.groupby('Department')['Amount'].sum().sort_values(ascending=False).reset_index()\n",
    "df_dep"
   ]
  },
  {
   "cell_type": "code",
   "execution_count": 25,
   "id": "0dc02040",
   "metadata": {},
   "outputs": [
    {
     "data": {
      "text/plain": [
       "<AxesSubplot:ylabel='Amount'>"
      ]
     },
     "execution_count": 25,
     "metadata": {},
     "output_type": "execute_result"
    },
    {
     "data": {
      "image/png": "[encoded data removed]",
      "text/plain": [
       "<Figure size 864x648 with 1 Axes>"
      ]
     },
     "metadata": {},
     "output_type": "display_data"
    }
   ],
   "source": [
    "df_dep['Amount'].plot(kind='pie', figsize=(12,9))"
   ]
  },
  {
   "cell_type": "markdown",
   "id": "984a13e1",
   "metadata": {},
   "source": [
    "The pie chart shows information about the total amount of money that Birmingham City Coucil spent on a wide range of sectors between April 2020 and October 2021. \n",
    "\n",
    "Just under a third of the total payments was made by the department of Finance and Governance, which is as twice as that made by each of the departments of Inclusive Growth, Education & Skills, Adults Social Care or Neighbours. CA-02700-04\t came last on the list with a quartor of a million."
   ]
  },
  {
   "cell_type": "code",
   "execution_count": null,
   "id": "05c39fea",
   "metadata": {},
   "outputs": [],
   "source": []
  },
  {
   "cell_type": "code",
   "execution_count": 26,
   "id": "6c08f610",
   "metadata": {
    "scrolled": false
   },
   "outputs": [
    {
     "data": {
      "text/html": [
       "<div>\n",
       "<style scoped>\n",
       "    .dataframe tbody tr th:only-of-type {\n",
       "        vertical-align: middle;\n",
       "    }\n",
       "\n",
       "    .dataframe tbody tr th {\n",
       "        vertical-align: top;\n",
       "    }\n",
       "\n",
       "    .dataframe thead th {\n",
       "        text-align: right;\n",
       "    }\n",
       "</style>\n",
       "<table border=\"1\" class=\"dataframe\">\n",
       "  <thead>\n",
       "    <tr style=\"text-align: right;\">\n",
       "      <th></th>\n",
       "      <th>index</th>\n",
       "      <th>Date</th>\n",
       "      <th>Department</th>\n",
       "      <th>Beneficiary</th>\n",
       "      <th>Summary</th>\n",
       "      <th>Amount</th>\n",
       "      <th>Vendor Number</th>\n",
       "      <th>year-month</th>\n",
       "    </tr>\n",
       "  </thead>\n",
       "  <tbody>\n",
       "    <tr>\n",
       "      <th>0</th>\n",
       "      <td>11</td>\n",
       "      <td>2020-04-01</td>\n",
       "      <td>Finance &amp; Governance</td>\n",
       "      <td>VENN GROUP LTD</td>\n",
       "      <td>Prop &amp; Regen Team</td>\n",
       "      <td>1147.50</td>\n",
       "      <td>B34941</td>\n",
       "      <td>20-04</td>\n",
       "    </tr>\n",
       "    <tr>\n",
       "      <th>1</th>\n",
       "      <td>13</td>\n",
       "      <td>2020-04-01</td>\n",
       "      <td>Finance &amp; Governance</td>\n",
       "      <td>BRAKE BROS LTD</td>\n",
       "      <td>Starbank Hobmoor Rd</td>\n",
       "      <td>779.36</td>\n",
       "      <td>B143373</td>\n",
       "      <td>20-04</td>\n",
       "    </tr>\n",
       "    <tr>\n",
       "      <th>2</th>\n",
       "      <td>14</td>\n",
       "      <td>2020-04-01</td>\n",
       "      <td>Finance &amp; Governance</td>\n",
       "      <td>BRAKE BROS LTD</td>\n",
       "      <td>Wilkes Green Junior</td>\n",
       "      <td>773.89</td>\n",
       "      <td>B143373</td>\n",
       "      <td>20-04</td>\n",
       "    </tr>\n",
       "  </tbody>\n",
       "</table>\n",
       "</div>"
      ],
      "text/plain": [
       "   index       Date            Department     Beneficiary  \\\n",
       "0     11 2020-04-01  Finance & Governance  VENN GROUP LTD   \n",
       "1     13 2020-04-01  Finance & Governance  BRAKE BROS LTD   \n",
       "2     14 2020-04-01  Finance & Governance  BRAKE BROS LTD   \n",
       "\n",
       "               Summary   Amount Vendor Number year-month  \n",
       "0    Prop & Regen Team  1147.50        B34941      20-04  \n",
       "1  Starbank Hobmoor Rd   779.36       B143373      20-04  \n",
       "2  Wilkes Green Junior   773.89       B143373      20-04  "
      ]
     },
     "execution_count": 26,
     "metadata": {},
     "output_type": "execute_result"
    }
   ],
   "source": [
    "df_finance=df[df['Department']=='Finance & Governance'].reset_index()\n",
    "df_finance.head(3)"
   ]
  },
  {
   "cell_type": "code",
   "execution_count": 91,
   "id": "fe8c545e",
   "metadata": {},
   "outputs": [
    {
     "data": {
      "text/plain": [
       "<AxesSubplot:xlabel='year-month'>"
      ]
     },
     "execution_count": 91,
     "metadata": {},
     "output_type": "execute_result"
    },
    {
     "data": {
      "image/png": "[encoded data removed]",
      "text/plain": [
       "<Figure size 432x288 with 1 Axes>"
      ]
     },
     "metadata": {
      "needs_background": "light"
     },
     "output_type": "display_data"
    }
   ],
   "source": [
    "df.groupby('year-month')['Amount'].agg('sum').plot(kind='bar')"
   ]
  },
  {
   "cell_type": "markdown",
   "id": "849c476c",
   "metadata": {},
   "source": [
    "The total council's monthly payments to suppliers fluctuated over the whole period and peaked in July 2021 at 194 M"
   ]
  },
  {
   "cell_type": "code",
   "execution_count": 88,
   "id": "6fa2ef0a",
   "metadata": {},
   "outputs": [
    {
     "data": {
      "text/plain": [
       "<AxesSubplot:xlabel='year-month'>"
      ]
     },
     "execution_count": 88,
     "metadata": {},
     "output_type": "execute_result"
    },
    {
     "data": {
      "image/png": "[encoded data removed]",
      "text/plain": [
       "<Figure size 648x504 with 1 Axes>"
      ]
     },
     "metadata": {
      "needs_background": "light"
     },
     "output_type": "display_data"
    }
   ],
   "source": [
    "df_finance.groupby('year-month')['Amount'].agg('sum').plot(kind='bar',figsize=(9,7))"
   ]
  },
  {
   "cell_type": "markdown",
   "id": "7301cbe0",
   "metadata": {},
   "source": [
    "### Beneficiary\n",
    "\n",
    "### What are the the five top beneficiaries?"
   ]
  },
  {
   "cell_type": "code",
   "execution_count": 78,
   "id": "8cb114d5",
   "metadata": {},
   "outputs": [
    {
     "data": {
      "text/plain": [
       "Beneficiary\n",
       "BIRMINGHAM CHILDRENS TRUST CIC         4.121981e+08\n",
       "LENDLEASE CONSTRUCTION (EUROPE) LTD    2.436567e+08\n",
       "WATES CONSTRUCTION LTD                 1.361308e+08\n",
       "BIRMINGHAM HIGHWAYS LTD                1.182077e+08\n",
       "WILLMOTT DIXON PARTNERSHIPS LTD        8.535321e+07\n",
       "Name: Amount, dtype: float64"
      ]
     },
     "execution_count": 78,
     "metadata": {},
     "output_type": "execute_result"
    }
   ],
   "source": [
    "df.groupby('Beneficiary')['Amount'].agg('sum').sort_values(ascending=False).head(5)"
   ]
  },
  {
   "cell_type": "markdown",
   "id": "cfea361b",
   "metadata": {},
   "source": [
    "BIRMINGHAM CHILDRENS TRUST CIC was the number-pne beneficiary, with 412 M, just ahead of LENDLEASE CONSTRUCTION (EUROPE) LTD. WATES CONSTRUCTION LTD was third on the list at 136 M."
   ]
  },
  {
   "cell_type": "markdown",
   "id": "707b8aad",
   "metadata": {},
   "source": [
    "###  What are the 10 top main beneficiaries which received payments from the department of Adult Social Care?"
   ]
  },
  {
   "cell_type": "code",
   "execution_count": 79,
   "id": "d6f073c3",
   "metadata": {},
   "outputs": [
    {
     "data": {
      "text/html": [
       "<div>\n",
       "<style scoped>\n",
       "    .dataframe tbody tr th:only-of-type {\n",
       "        vertical-align: middle;\n",
       "    }\n",
       "\n",
       "    .dataframe tbody tr th {\n",
       "        vertical-align: top;\n",
       "    }\n",
       "\n",
       "    .dataframe thead th {\n",
       "        text-align: right;\n",
       "    }\n",
       "</style>\n",
       "<table border=\"1\" class=\"dataframe\">\n",
       "  <thead>\n",
       "    <tr style=\"text-align: right;\">\n",
       "      <th></th>\n",
       "      <th>Beneficiary</th>\n",
       "      <th>Amount</th>\n",
       "    </tr>\n",
       "  </thead>\n",
       "  <tbody>\n",
       "    <tr>\n",
       "      <th>0</th>\n",
       "      <td>MEDEQUIP ASSISTIVE TECHNOLOGY LTD</td>\n",
       "      <td>9962086.58</td>\n",
       "    </tr>\n",
       "    <tr>\n",
       "      <th>1</th>\n",
       "      <td>CARETECH COMMUNITY SERVICES</td>\n",
       "      <td>9618747.29</td>\n",
       "    </tr>\n",
       "    <tr>\n",
       "      <th>2</th>\n",
       "      <td>SEVACARE UK LTD</td>\n",
       "      <td>9426397.96</td>\n",
       "    </tr>\n",
       "    <tr>\n",
       "      <th>3</th>\n",
       "      <td>REDACTED - PERSONAL DATA</td>\n",
       "      <td>9185781.96</td>\n",
       "    </tr>\n",
       "    <tr>\n",
       "      <th>4</th>\n",
       "      <td>MACC CARE LTD</td>\n",
       "      <td>8947543.85</td>\n",
       "    </tr>\n",
       "    <tr>\n",
       "      <th>5</th>\n",
       "      <td>TRIDENT REACH THE PEOPLE CHARITY</td>\n",
       "      <td>7783059.21</td>\n",
       "    </tr>\n",
       "    <tr>\n",
       "      <th>6</th>\n",
       "      <td>THE RIDINGS CARE HOME</td>\n",
       "      <td>7443842.33</td>\n",
       "    </tr>\n",
       "    <tr>\n",
       "      <th>7</th>\n",
       "      <td>LIFEWAYS COMMUNITY CARE LTD</td>\n",
       "      <td>7016778.76</td>\n",
       "    </tr>\n",
       "    <tr>\n",
       "      <th>8</th>\n",
       "      <td>VOYAGE</td>\n",
       "      <td>6516924.27</td>\n",
       "    </tr>\n",
       "    <tr>\n",
       "      <th>9</th>\n",
       "      <td>HAYS SPECIALIST RECRUITMENT LTD</td>\n",
       "      <td>6354232.22</td>\n",
       "    </tr>\n",
       "  </tbody>\n",
       "</table>\n",
       "</div>"
      ],
      "text/plain": [
       "                         Beneficiary      Amount\n",
       "0  MEDEQUIP ASSISTIVE TECHNOLOGY LTD  9962086.58\n",
       "1        CARETECH COMMUNITY SERVICES  9618747.29\n",
       "2                    SEVACARE UK LTD  9426397.96\n",
       "3           REDACTED - PERSONAL DATA  9185781.96\n",
       "4                      MACC CARE LTD  8947543.85\n",
       "5   TRIDENT REACH THE PEOPLE CHARITY  7783059.21\n",
       "6              THE RIDINGS CARE HOME  7443842.33\n",
       "7        LIFEWAYS COMMUNITY CARE LTD  7016778.76\n",
       "8                             VOYAGE  6516924.27\n",
       "9    HAYS SPECIALIST RECRUITMENT LTD  6354232.22"
      ]
     },
     "execution_count": 79,
     "metadata": {},
     "output_type": "execute_result"
    }
   ],
   "source": [
    "df[df.Department=='Adults Social Care'].groupby(['Beneficiary'])['Amount'].agg('sum').sort_values(ascending=False).reset_index().head(10)"
   ]
  },
  {
   "cell_type": "code",
   "execution_count": 80,
   "id": "79ffe32d",
   "metadata": {},
   "outputs": [],
   "source": [
    "df_ct=df[df['Beneficiary']=='BIRMINGHAM CHILDRENS TRUST CIC'].reset_index()"
   ]
  },
  {
   "cell_type": "code",
   "execution_count": 81,
   "id": "81e87e44",
   "metadata": {},
   "outputs": [
    {
     "data": {
      "text/plain": [
       "<AxesSubplot:xlabel='year-month'>"
      ]
     },
     "execution_count": 81,
     "metadata": {},
     "output_type": "execute_result"
    },
    {
     "data": {
      "image/png": "[encoded data removed]",
      "text/plain": [
       "<Figure size 864x648 with 1 Axes>"
      ]
     },
     "metadata": {
      "needs_background": "light"
     },
     "output_type": "display_data"
    }
   ],
   "source": [
    "df_ct.groupby('year-month')['Amount'].agg('sum').plot(kind='bar',grid=True,figsize=(12,9))"
   ]
  },
  {
   "cell_type": "markdown",
   "id": "fe79f317",
   "metadata": {},
   "source": [
    "The chart shows data about the monthly payment Birmingham City Council paid BIRMINGHAM CHILDRENS TRUST CIC between April 2020 and October 2021. \n",
    "\n",
    "Having remained stable at approximately £21 M between August 2020 and June 2021, the figure rose sharply and doubled in July 2021, reaching nearly 45 M.  The monthly payment dropped significantly to about 0.27 M before it levelled off again to finish at around 21 M. "
   ]
  },
  {
   "cell_type": "code",
   "execution_count": 31,
   "id": "02538649",
   "metadata": {},
   "outputs": [
    {
     "data": {
      "text/plain": [
       "year-month\n",
       "20-04    20582518.76\n",
       "20-05    20219077.16\n",
       "20-06    20106862.90\n",
       "20-07    28540346.90\n",
       "20-08    20628678.45\n",
       "20-09    22569478.74\n",
       "20-10    20775038.45\n",
       "20-11    20600338.32\n",
       "20-12    21578036.85\n",
       "21-01    20567755.82\n",
       "21-02    21467542.89\n",
       "21-03    21690864.58\n",
       "21-04    21466659.42\n",
       "21-05    23780968.21\n",
       "21-06    21296088.00\n",
       "21-07    42561489.56\n",
       "21-08      276322.36\n",
       "21-09    22049554.04\n",
       "21-10    21440469.65\n",
       "Name: Amount, dtype: float64"
      ]
     },
     "execution_count": 31,
     "metadata": {},
     "output_type": "execute_result"
    }
   ],
   "source": [
    "df_ct.groupby('year-month')['Amount'].agg('sum')"
   ]
  },
  {
   "cell_type": "markdown",
   "id": "ae7457fc",
   "metadata": {},
   "source": [
    "### Commonwealth Games"
   ]
  },
  {
   "cell_type": "code",
   "execution_count": 84,
   "id": "2d78aeb6",
   "metadata": {},
   "outputs": [
    {
     "data": {
      "text/plain": [
       "<AxesSubplot:xlabel='year-month'>"
      ]
     },
     "execution_count": 84,
     "metadata": {},
     "output_type": "execute_result"
    },
    {
     "data": {
      "image/png": "[encoded data removed]",
      "text/plain": [
       "<Figure size 432x288 with 1 Axes>"
      ]
     },
     "metadata": {
      "needs_background": "light"
     },
     "output_type": "display_data"
    }
   ],
   "source": [
    "df[df['Department']=='Commonwealth Games'].groupby('year-month')['Amount'].agg('sum').sort_values(ascending=False).plot(kind='bar')"
   ]
  },
  {
   "cell_type": "markdown",
   "id": "aef1ebb9",
   "metadata": {},
   "source": [
    "The department of Commonwealth Games made irregular payments to suppliers. "
   ]
  },
  {
   "cell_type": "code",
   "execution_count": 33,
   "id": "0ff5a87f",
   "metadata": {},
   "outputs": [
    {
     "data": {
      "text/plain": [
       "Beneficiary                          year-month\n",
       "ACIVICO (DCFM) LTD                   21-08            7036.80\n",
       "                                     21-10            5273.90\n",
       "ENV (COVENTRY) C.I.C                 21-04            9720.00\n",
       "                                     21-07            6480.00\n",
       "HAYSTOUN CONSTRUCTION LTD            21-10          100844.20\n",
       "LOCALITY (UK)                        21-07           49980.00\n",
       "MCLEAN PROJECTS AND EVENTS LTD       20-10            4125.00\n",
       "                                     21-03            5625.00\n",
       "                                     21-04            6000.00\n",
       "OVE ARUP & PARTNERS LTD              20-08           54000.00\n",
       "SANDWELL METROPOLITAN BOROUGH COUNC  21-08         4833334.00\n",
       "                                     21-10         2500000.00\n",
       "WESTERN POWER DISTRIBUTION (WMIDS)   21-03          138963.85\n",
       "Name: Amount, dtype: float64"
      ]
     },
     "execution_count": 33,
     "metadata": {},
     "output_type": "execute_result"
    }
   ],
   "source": [
    "df[df['Department']=='Commonwealth Games'].groupby(['Beneficiary','year-month'])['Amount'].agg('sum')"
   ]
  },
  {
   "cell_type": "markdown",
   "id": "5f9a4ca4",
   "metadata": {},
   "source": [
    "The tables show that the expenditure on Commonwealth Games started in August 2020. SANDWELL METROPOLITAN BOROUGH COUNC received the first and second highest payments from the council in August and October, 2021 at about 4.8  and 2.5 M respectively. "
   ]
  },
  {
   "cell_type": "markdown",
   "id": "55cf64a9",
   "metadata": {},
   "source": [
    "###  Which is the most popular beneficiary across the departments? and how much money does it receive in total?"
   ]
  },
  {
   "cell_type": "code",
   "execution_count": 34,
   "id": "02a122b0",
   "metadata": {},
   "outputs": [
    {
     "data": {
      "text/html": [
       "<div>\n",
       "<style scoped>\n",
       "    .dataframe tbody tr th:only-of-type {\n",
       "        vertical-align: middle;\n",
       "    }\n",
       "\n",
       "    .dataframe tbody tr th {\n",
       "        vertical-align: top;\n",
       "    }\n",
       "\n",
       "    .dataframe thead th {\n",
       "        text-align: right;\n",
       "    }\n",
       "</style>\n",
       "<table border=\"1\" class=\"dataframe\">\n",
       "  <thead>\n",
       "    <tr style=\"text-align: right;\">\n",
       "      <th></th>\n",
       "      <th>Department</th>\n",
       "      <th>mod</th>\n",
       "    </tr>\n",
       "  </thead>\n",
       "  <tbody>\n",
       "    <tr>\n",
       "      <th>0</th>\n",
       "      <td>Adults Social Care</td>\n",
       "      <td>SEVACARE (UK) LTD</td>\n",
       "    </tr>\n",
       "    <tr>\n",
       "      <th>1</th>\n",
       "      <td>Birmingham Children's Trust</td>\n",
       "      <td>VEOLIA ES BIRMINGHAM LTD</td>\n",
       "    </tr>\n",
       "    <tr>\n",
       "      <th>2</th>\n",
       "      <td>CA-02700-04</td>\n",
       "      <td>PARADISE CIRCUS GENERAL PARTNER LTD</td>\n",
       "    </tr>\n",
       "    <tr>\n",
       "      <th>3</th>\n",
       "      <td>CA-02996-03</td>\n",
       "      <td>BAMFORD BUS COMPANY LTD</td>\n",
       "    </tr>\n",
       "    <tr>\n",
       "      <th>4</th>\n",
       "      <td>Chief Exec</td>\n",
       "      <td>BT REDCARE</td>\n",
       "    </tr>\n",
       "    <tr>\n",
       "      <th>5</th>\n",
       "      <td>Commonwealth Games</td>\n",
       "      <td>SANDWELL METROPOLITAN BOROUGH COUNC</td>\n",
       "    </tr>\n",
       "    <tr>\n",
       "      <th>6</th>\n",
       "      <td>Digital &amp; Customer</td>\n",
       "      <td>REDACTED - PERSONAL DATA</td>\n",
       "    </tr>\n",
       "    <tr>\n",
       "      <th>7</th>\n",
       "      <td>Education &amp; Skills</td>\n",
       "      <td>TOTAL GAS &amp; POWER LTD</td>\n",
       "    </tr>\n",
       "    <tr>\n",
       "      <th>8</th>\n",
       "      <td>Finance &amp; Governance</td>\n",
       "      <td>REDACTED - PERSONAL DATA</td>\n",
       "    </tr>\n",
       "    <tr>\n",
       "      <th>9</th>\n",
       "      <td>Human Resources</td>\n",
       "      <td>OH DEPARTMENT LTD</td>\n",
       "    </tr>\n",
       "    <tr>\n",
       "      <th>10</th>\n",
       "      <td>Inclusive Growth</td>\n",
       "      <td>TOTAL GAS &amp; POWER LTD</td>\n",
       "    </tr>\n",
       "    <tr>\n",
       "      <th>11</th>\n",
       "      <td>Neighbourhoods</td>\n",
       "      <td>EXTRA PERSONNEL</td>\n",
       "    </tr>\n",
       "    <tr>\n",
       "      <th>12</th>\n",
       "      <td>Partnerships Insight and Prevention</td>\n",
       "      <td>G2V RECRUITMENT GROUP LTD</td>\n",
       "    </tr>\n",
       "  </tbody>\n",
       "</table>\n",
       "</div>"
      ],
      "text/plain": [
       "                             Department                                  mod\n",
       "0                    Adults Social Care                    SEVACARE (UK) LTD\n",
       "1           Birmingham Children's Trust             VEOLIA ES BIRMINGHAM LTD\n",
       "2                           CA-02700-04  PARADISE CIRCUS GENERAL PARTNER LTD\n",
       "3                           CA-02996-03              BAMFORD BUS COMPANY LTD\n",
       "4                            Chief Exec                           BT REDCARE\n",
       "5                    Commonwealth Games  SANDWELL METROPOLITAN BOROUGH COUNC\n",
       "6                    Digital & Customer             REDACTED - PERSONAL DATA\n",
       "7                    Education & Skills                TOTAL GAS & POWER LTD\n",
       "8                  Finance & Governance             REDACTED - PERSONAL DATA\n",
       "9                       Human Resources                    OH DEPARTMENT LTD\n",
       "10                     Inclusive Growth                TOTAL GAS & POWER LTD\n",
       "11                       Neighbourhoods                      EXTRA PERSONNEL\n",
       "12  Partnerships Insight and Prevention            G2V RECRUITMENT GROUP LTD"
      ]
     },
     "execution_count": 34,
     "metadata": {},
     "output_type": "execute_result"
    }
   ],
   "source": [
    "df_popular=df.groupby(['Department']).agg(mod  = ('Beneficiary', \\\n",
    "                                        lambda x: x.value_counts().index[0]),\n",
    "                                    \n",
    "                                      ).reset_index()\n",
    "\n",
    "df_popular"
   ]
  },
  {
   "cell_type": "code",
   "execution_count": 35,
   "id": "55139b61",
   "metadata": {},
   "outputs": [
    {
     "data": {
      "text/plain": [
       "<zip at 0x7f42645e9540>"
      ]
     },
     "execution_count": 35,
     "metadata": {},
     "output_type": "execute_result"
    }
   ],
   "source": [
    "zip(df_popular['Department'], df_popular['mod'])"
   ]
  },
  {
   "cell_type": "code",
   "execution_count": 45,
   "id": "21615522",
   "metadata": {},
   "outputs": [],
   "source": [
    "total=[]\n",
    "for u,v in zip(df_popular['Department'], df_popular['mod']):\n",
    "    total.append(df[(df['Department']==u)& (df['Beneficiary']==v)]['Amount'].agg('sum'))"
   ]
  },
  {
   "cell_type": "code",
   "execution_count": 47,
   "id": "bcf3256a",
   "metadata": {},
   "outputs": [],
   "source": [
    "df_popular['Total_Amount']=total"
   ]
  },
  {
   "cell_type": "code",
   "execution_count": 50,
   "id": "b4a27e28",
   "metadata": {},
   "outputs": [
    {
     "data": {
      "text/html": [
       "<div>\n",
       "<style scoped>\n",
       "    .dataframe tbody tr th:only-of-type {\n",
       "        vertical-align: middle;\n",
       "    }\n",
       "\n",
       "    .dataframe tbody tr th {\n",
       "        vertical-align: top;\n",
       "    }\n",
       "\n",
       "    .dataframe thead th {\n",
       "        text-align: right;\n",
       "    }\n",
       "</style>\n",
       "<table border=\"1\" class=\"dataframe\">\n",
       "  <thead>\n",
       "    <tr style=\"text-align: right;\">\n",
       "      <th></th>\n",
       "      <th>Department</th>\n",
       "      <th>mod</th>\n",
       "      <th>Total_Amount</th>\n",
       "    </tr>\n",
       "  </thead>\n",
       "  <tbody>\n",
       "    <tr>\n",
       "      <th>10</th>\n",
       "      <td>Inclusive Growth</td>\n",
       "      <td>TOTAL GAS &amp; POWER LTD</td>\n",
       "      <td>30647484.70</td>\n",
       "    </tr>\n",
       "    <tr>\n",
       "      <th>11</th>\n",
       "      <td>Neighbourhoods</td>\n",
       "      <td>EXTRA PERSONNEL</td>\n",
       "      <td>20095653.64</td>\n",
       "    </tr>\n",
       "    <tr>\n",
       "      <th>5</th>\n",
       "      <td>Commonwealth Games</td>\n",
       "      <td>SANDWELL METROPOLITAN BOROUGH COUNC</td>\n",
       "      <td>7333334.00</td>\n",
       "    </tr>\n",
       "    <tr>\n",
       "      <th>0</th>\n",
       "      <td>Adults Social Care</td>\n",
       "      <td>SEVACARE (UK) LTD</td>\n",
       "      <td>5876377.76</td>\n",
       "    </tr>\n",
       "    <tr>\n",
       "      <th>7</th>\n",
       "      <td>Education &amp; Skills</td>\n",
       "      <td>TOTAL GAS &amp; POWER LTD</td>\n",
       "      <td>5813238.34</td>\n",
       "    </tr>\n",
       "    <tr>\n",
       "      <th>8</th>\n",
       "      <td>Finance &amp; Governance</td>\n",
       "      <td>REDACTED - PERSONAL DATA</td>\n",
       "      <td>2620900.20</td>\n",
       "    </tr>\n",
       "    <tr>\n",
       "      <th>1</th>\n",
       "      <td>Birmingham Children's Trust</td>\n",
       "      <td>VEOLIA ES BIRMINGHAM LTD</td>\n",
       "      <td>834430.22</td>\n",
       "    </tr>\n",
       "    <tr>\n",
       "      <th>12</th>\n",
       "      <td>Partnerships Insight and Prevention</td>\n",
       "      <td>G2V RECRUITMENT GROUP LTD</td>\n",
       "      <td>825178.80</td>\n",
       "    </tr>\n",
       "    <tr>\n",
       "      <th>3</th>\n",
       "      <td>CA-02996-03</td>\n",
       "      <td>BAMFORD BUS COMPANY LTD</td>\n",
       "      <td>658670.40</td>\n",
       "    </tr>\n",
       "    <tr>\n",
       "      <th>2</th>\n",
       "      <td>CA-02700-04</td>\n",
       "      <td>PARADISE CIRCUS GENERAL PARTNER LTD</td>\n",
       "      <td>241920.00</td>\n",
       "    </tr>\n",
       "    <tr>\n",
       "      <th>4</th>\n",
       "      <td>Chief Exec</td>\n",
       "      <td>BT REDCARE</td>\n",
       "      <td>141481.49</td>\n",
       "    </tr>\n",
       "    <tr>\n",
       "      <th>6</th>\n",
       "      <td>Digital &amp; Customer</td>\n",
       "      <td>REDACTED - PERSONAL DATA</td>\n",
       "      <td>80058.00</td>\n",
       "    </tr>\n",
       "    <tr>\n",
       "      <th>9</th>\n",
       "      <td>Human Resources</td>\n",
       "      <td>OH DEPARTMENT LTD</td>\n",
       "      <td>28437.50</td>\n",
       "    </tr>\n",
       "  </tbody>\n",
       "</table>\n",
       "</div>"
      ],
      "text/plain": [
       "                             Department                                  mod  \\\n",
       "10                     Inclusive Growth                TOTAL GAS & POWER LTD   \n",
       "11                       Neighbourhoods                      EXTRA PERSONNEL   \n",
       "5                    Commonwealth Games  SANDWELL METROPOLITAN BOROUGH COUNC   \n",
       "0                    Adults Social Care                    SEVACARE (UK) LTD   \n",
       "7                    Education & Skills                TOTAL GAS & POWER LTD   \n",
       "8                  Finance & Governance             REDACTED - PERSONAL DATA   \n",
       "1           Birmingham Children's Trust             VEOLIA ES BIRMINGHAM LTD   \n",
       "12  Partnerships Insight and Prevention            G2V RECRUITMENT GROUP LTD   \n",
       "3                           CA-02996-03              BAMFORD BUS COMPANY LTD   \n",
       "2                           CA-02700-04  PARADISE CIRCUS GENERAL PARTNER LTD   \n",
       "4                            Chief Exec                           BT REDCARE   \n",
       "6                    Digital & Customer             REDACTED - PERSONAL DATA   \n",
       "9                       Human Resources                    OH DEPARTMENT LTD   \n",
       "\n",
       "    Total_Amount  \n",
       "10   30647484.70  \n",
       "11   20095653.64  \n",
       "5     7333334.00  \n",
       "0     5876377.76  \n",
       "7     5813238.34  \n",
       "8     2620900.20  \n",
       "1      834430.22  \n",
       "12     825178.80  \n",
       "3      658670.40  \n",
       "2      241920.00  \n",
       "4      141481.49  \n",
       "6       80058.00  \n",
       "9       28437.50  "
      ]
     },
     "execution_count": 50,
     "metadata": {},
     "output_type": "execute_result"
    }
   ],
   "source": [
    "df_popular.sort_values('Total_Amount', ascending=False)"
   ]
  },
  {
   "cell_type": "code",
   "execution_count": 85,
   "id": "ea189cf3",
   "metadata": {},
   "outputs": [
    {
     "data": {
      "text/plain": [
       "3102056676.96"
      ]
     },
     "execution_count": 85,
     "metadata": {},
     "output_type": "execute_result"
    }
   ],
   "source": [
    "df.Amount.sum()"
   ]
  },
  {
   "cell_type": "markdown",
   "id": "c7cf4c59",
   "metadata": {},
   "source": [
    "### Conclusion\n",
    "\n",
    "The data used in this notebook shows how Birmingham City Council spent their money over the period between April 2020 and October 2021. The total amount of money the council spent is about 3.1 billions.\n",
    "\n",
    "Looking at the details, The total council's monthly payments to suppliers fluctuated over the whole period and peaked in July 2021 at 194 M.\n",
    "\n",
    "The much higher mean in some departments indicates that some high payments were made to suppliers. Also, there are three departments which only made a single payment in March 2020. \n",
    "\n",
    "\n",
    "Just under a third of the total payments was made by the department of Finance and Governance, which is as twice as that made by each of the departments of Inclusive Growth, Education & Skills, Adults Social Care or Neighbours. CA-02700-04\t came last on the list with a quartor of a million.\n"
   ]
  },
  {
   "cell_type": "code",
   "execution_count": null,
   "id": "000c5015",
   "metadata": {},
   "outputs": [],
   "source": []
  }
 ],
 "metadata": {
  "kernelspec": {
   "display_name": "Python 3",
   "language": "python",
   "name": "python3"
  },
  "language_info": {
   "codemirror_mode": {
    "name": "ipython",
    "version": 3
   },
   "file_extension": ".py",
   "mimetype": "text/x-python",
   "name": "python",
   "nbconvert_exporter": "python",
   "pygments_lexer": "ipython3",
   "version": "3.8.8"
  }
 },
 "nbformat": 4,
 "nbformat_minor": 5
}
